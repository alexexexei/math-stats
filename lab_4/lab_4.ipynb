{
 "cells": [
  {
   "cell_type": "markdown",
   "metadata": {},
   "source": [
    "# Математичекая Статистика\n",
    "## Лабораторная Работа №4 «Линейные Модели», Вариант 2 4\n",
    "\n",
    "Румянцев Алексей Александрович, 368731, Поток Мат Стат 31.2"
   ]
  },
  {
   "cell_type": "markdown",
   "metadata": {},
   "source": [
    "## Задание 1\n",
    "### Условие\n",
    "\n",
    "Требуется построить линейную модель (предполагая нормальность распределения ошибок, некоррелированность компонент, гомоскедастичность), вычислить оценки коэффициентов модели и остаточной дисперсии, построить для них доверительные интервалы, вычислить коэффициент детерминации, проверить указанные в условии гипотезы с помощью построенной линейной модели.\n",
    "\n",
    "**Указание**: из встроенных функций разрешается пользоваться квантильными функциями и средствами для квадратичной оптимизации (иными словами, готовую обертку для построения линейной модели не использовать, максимум можете сравнить вашу реализацию с готовой)\n",
    "\n",
    "В файле [`mobile_phones.csv`](https://drive.google.com/file/d/1O4rFr9xg9aFmkjx4-hl_XOc5O9q65_EW/view) представлены данные о мобильных телефонах.\n",
    "1. Постройте линейную модель, где в качестве независимых переменных выступают высота, ширина экрана (атрибуты `sc_h` и `sc_w`) и емкость аккумулятора (вместе со свободным коэффициентом), зависимой -- масса телефона.\n",
    "2. Проверьте следующие подозрения:\n",
    "    1. Чем больше высота экрана, тем больше масса\n",
    "    2. Чем больше ширина экрана, тем больше масса\n",
    "    3. Проверьте гипотезу $H_0$ о равенстве одновременно нулю коэффициентов при ширине экрана и емкости аккумулятора против альтернативы $H_1=\\overline{H_0}$"
   ]
  },
  {
   "cell_type": "markdown",
   "metadata": {},
   "source": [
    "### Выполнение\n",
    "[Источник 1](https://en.wikipedia.org/wiki/Linear_regression), [Источник 2](https://drive.google.com/file/d/1ObI68ECLeasAhUNw7pVuLtcvW60I8tb_/view), [Источник 3](https://net-informations.com/ds/psa/adjusted.htm)\n",
    "\n",
    "$$Y=Xc+\\varepsilon$$\n",
    "$$Y=\\begin{bmatrix}y_1\\\\ y_2\\\\ \\vdots \\\\ y_n\\end{bmatrix},\\ \\ X=\\begin{bmatrix}x_1^T\\\\ x_2^T\\\\ \\vdots \\\\ x_n^T\\end{bmatrix}=\\begin{bmatrix}1 & x_{11} & \\dots & x_{1p}\\\\ 1 & x_{21} & \\dots & x_{2p}\\\\ \\vdots & \\vdots & \\ddots & \\vdots \\\\ 1 & x_{n1} & \\dots & x_{np}\\end{bmatrix},\\ \\ c=\\begin{bmatrix}c_0\\\\c_1\\\\c_2\\\\ \\vdots \\\\ c_p\\end{bmatrix},\\ \\ \\varepsilon=\\begin{bmatrix}\\varepsilon_1\\\\ \\varepsilon_2\\\\ \\vdots \\\\ \\varepsilon_n\\end{bmatrix}$$\n",
    "$$y=c_0+c_1x_1+c_2x_2+c_3x_3+\\varepsilon$$\n",
    "Предполагаем, что\n",
    "$$\\mathbb{E}\\left[\\varepsilon\\right]=0,\\ \\ \\text{Var}\\left[\\varepsilon_i\\right]=\\sigma^2,\\ \\ \\text{Cov}\\left[\\varepsilon_i,\\varepsilon_j\\right]=0,\\ \\ \\varepsilon \\sim \\mathcal{N}\\left(0,\\sigma^2 I_n\\right)$$\n",
    "Ищем\n",
    "$$\\hat{c}=\\text{arg min}_{\\mathbb{R}^p}S^2\\left[c\\right]$$\n",
    "Квадратическая ошибка\n",
    "$$S^2\\left[c\\right]=\\left[Y-Xc\\right]^T\\left[Y-Xc\\right]=\\varepsilon^T\\varepsilon$$\n",
    "Количество предикторов $p$ это независимые параметры плюс свободный коэффициент\n",
    "$$A=X^TX,\\ \\ \\text{rank}\\left[A\\right]=p$$\n",
    "Таким образом, оценка коэффициентов модели имеет вид\n",
    "$$\\hat{c}=A^{-1}X^TY$$\n",
    "Линейная модель будет иметь вид\n",
    "$$\\hat{Y}=X\\hat{c}$$\n",
    "Оценка остаточной дисперсии\n",
    "$$\\hat{\\sigma}^2=\\dfrac{S^2(\\hat{c})}{n-p}$$\n",
    "Доверительный интервал для $c_j$\n",
    "$$\\left(\\hat{c}_j-c_j\\right)\\sqrt{\\dfrac{n-p}{A^{-1}_{jj}S^2\\left(\\hat{c}\\right)}}\\sim T(n-p)$$\n",
    "$$\\left(\\hat{c}_j-c_j\\right)\\sqrt{\\dfrac{n-p}{A^{-1}_{jj}S^2\\left(\\hat{c}\\right)}}\\leq t_{1-\\frac{\\alpha}{2},n-p}$$\n",
    "$$-t_{1-\\frac{\\alpha}{2},n-p}\\leq \\left(\\hat{c}_j-c_j\\right)\\sqrt{\\dfrac{n-p}{A^{-1}_{jj}S^2\\left(\\hat{c}\\right)}}\\leq t_{1-\\frac{\\alpha}{2},n-p}$$\n",
    "$$\\hat{c}_j-t_{1-\\frac{\\alpha}{2},n-p}\\sqrt{\\dfrac{A^{-1}_{jj}S^2\\left(\\hat{c}\\right)}{n-p}}\\leq c_j\\leq \\hat{c}_j+t_{1-\\frac{\\alpha}{2},n-p}\\sqrt{\\dfrac{A^{-1}_{jj}S^2\\left(\\hat{c}\\right)}{n-p}}$$\n",
    "Коэффициент детерминации\n",
    "$$R^2=1-\\dfrac{\\sum_{j=1}^{n}\\left(Y-\\hat{Y}\\right)^2}{\\sum_{j=1}^{n}\\left(Y-\\overline{Y}\\right)^2}$$"
   ]
  },
  {
   "cell_type": "code",
   "execution_count": 43,
   "metadata": {},
   "outputs": [
    {
     "data": {
      "text/html": [
       "<div>\n",
       "<style scoped>\n",
       "    .dataframe tbody tr th:only-of-type {\n",
       "        vertical-align: middle;\n",
       "    }\n",
       "\n",
       "    .dataframe tbody tr th {\n",
       "        vertical-align: top;\n",
       "    }\n",
       "\n",
       "    .dataframe thead th {\n",
       "        text-align: right;\n",
       "    }\n",
       "</style>\n",
       "<table border=\"1\" class=\"dataframe\">\n",
       "  <thead>\n",
       "    <tr style=\"text-align: right;\">\n",
       "      <th></th>\n",
       "      <th>battery_power</th>\n",
       "      <th>blue</th>\n",
       "      <th>clock_speed</th>\n",
       "      <th>dual_sim</th>\n",
       "      <th>fc</th>\n",
       "      <th>four_g</th>\n",
       "      <th>int_memory</th>\n",
       "      <th>m_dep</th>\n",
       "      <th>mobile_wt</th>\n",
       "      <th>n_cores</th>\n",
       "      <th>...</th>\n",
       "      <th>px_height</th>\n",
       "      <th>px_width</th>\n",
       "      <th>ram</th>\n",
       "      <th>sc_h</th>\n",
       "      <th>sc_w</th>\n",
       "      <th>talk_time</th>\n",
       "      <th>three_g</th>\n",
       "      <th>touch_screen</th>\n",
       "      <th>wifi</th>\n",
       "      <th>price_range</th>\n",
       "    </tr>\n",
       "  </thead>\n",
       "  <tbody>\n",
       "    <tr>\n",
       "      <th>0</th>\n",
       "      <td>842</td>\n",
       "      <td>0</td>\n",
       "      <td>2.2</td>\n",
       "      <td>0</td>\n",
       "      <td>1</td>\n",
       "      <td>0</td>\n",
       "      <td>7</td>\n",
       "      <td>0.6</td>\n",
       "      <td>188</td>\n",
       "      <td>2</td>\n",
       "      <td>...</td>\n",
       "      <td>20</td>\n",
       "      <td>756</td>\n",
       "      <td>2549</td>\n",
       "      <td>9</td>\n",
       "      <td>7</td>\n",
       "      <td>19</td>\n",
       "      <td>0</td>\n",
       "      <td>0</td>\n",
       "      <td>1</td>\n",
       "      <td>1</td>\n",
       "    </tr>\n",
       "    <tr>\n",
       "      <th>1</th>\n",
       "      <td>1021</td>\n",
       "      <td>1</td>\n",
       "      <td>0.5</td>\n",
       "      <td>1</td>\n",
       "      <td>0</td>\n",
       "      <td>1</td>\n",
       "      <td>53</td>\n",
       "      <td>0.7</td>\n",
       "      <td>136</td>\n",
       "      <td>3</td>\n",
       "      <td>...</td>\n",
       "      <td>905</td>\n",
       "      <td>1988</td>\n",
       "      <td>2631</td>\n",
       "      <td>17</td>\n",
       "      <td>3</td>\n",
       "      <td>7</td>\n",
       "      <td>1</td>\n",
       "      <td>1</td>\n",
       "      <td>0</td>\n",
       "      <td>2</td>\n",
       "    </tr>\n",
       "    <tr>\n",
       "      <th>2</th>\n",
       "      <td>563</td>\n",
       "      <td>1</td>\n",
       "      <td>0.5</td>\n",
       "      <td>1</td>\n",
       "      <td>2</td>\n",
       "      <td>1</td>\n",
       "      <td>41</td>\n",
       "      <td>0.9</td>\n",
       "      <td>145</td>\n",
       "      <td>5</td>\n",
       "      <td>...</td>\n",
       "      <td>1263</td>\n",
       "      <td>1716</td>\n",
       "      <td>2603</td>\n",
       "      <td>11</td>\n",
       "      <td>2</td>\n",
       "      <td>9</td>\n",
       "      <td>1</td>\n",
       "      <td>1</td>\n",
       "      <td>0</td>\n",
       "      <td>2</td>\n",
       "    </tr>\n",
       "    <tr>\n",
       "      <th>3</th>\n",
       "      <td>615</td>\n",
       "      <td>1</td>\n",
       "      <td>2.5</td>\n",
       "      <td>0</td>\n",
       "      <td>0</td>\n",
       "      <td>0</td>\n",
       "      <td>10</td>\n",
       "      <td>0.8</td>\n",
       "      <td>131</td>\n",
       "      <td>6</td>\n",
       "      <td>...</td>\n",
       "      <td>1216</td>\n",
       "      <td>1786</td>\n",
       "      <td>2769</td>\n",
       "      <td>16</td>\n",
       "      <td>8</td>\n",
       "      <td>11</td>\n",
       "      <td>1</td>\n",
       "      <td>0</td>\n",
       "      <td>0</td>\n",
       "      <td>2</td>\n",
       "    </tr>\n",
       "    <tr>\n",
       "      <th>4</th>\n",
       "      <td>1821</td>\n",
       "      <td>1</td>\n",
       "      <td>1.2</td>\n",
       "      <td>0</td>\n",
       "      <td>13</td>\n",
       "      <td>1</td>\n",
       "      <td>44</td>\n",
       "      <td>0.6</td>\n",
       "      <td>141</td>\n",
       "      <td>2</td>\n",
       "      <td>...</td>\n",
       "      <td>1208</td>\n",
       "      <td>1212</td>\n",
       "      <td>1411</td>\n",
       "      <td>8</td>\n",
       "      <td>2</td>\n",
       "      <td>15</td>\n",
       "      <td>1</td>\n",
       "      <td>1</td>\n",
       "      <td>0</td>\n",
       "      <td>1</td>\n",
       "    </tr>\n",
       "    <tr>\n",
       "      <th>...</th>\n",
       "      <td>...</td>\n",
       "      <td>...</td>\n",
       "      <td>...</td>\n",
       "      <td>...</td>\n",
       "      <td>...</td>\n",
       "      <td>...</td>\n",
       "      <td>...</td>\n",
       "      <td>...</td>\n",
       "      <td>...</td>\n",
       "      <td>...</td>\n",
       "      <td>...</td>\n",
       "      <td>...</td>\n",
       "      <td>...</td>\n",
       "      <td>...</td>\n",
       "      <td>...</td>\n",
       "      <td>...</td>\n",
       "      <td>...</td>\n",
       "      <td>...</td>\n",
       "      <td>...</td>\n",
       "      <td>...</td>\n",
       "      <td>...</td>\n",
       "    </tr>\n",
       "    <tr>\n",
       "      <th>1995</th>\n",
       "      <td>794</td>\n",
       "      <td>1</td>\n",
       "      <td>0.5</td>\n",
       "      <td>1</td>\n",
       "      <td>0</td>\n",
       "      <td>1</td>\n",
       "      <td>2</td>\n",
       "      <td>0.8</td>\n",
       "      <td>106</td>\n",
       "      <td>6</td>\n",
       "      <td>...</td>\n",
       "      <td>1222</td>\n",
       "      <td>1890</td>\n",
       "      <td>668</td>\n",
       "      <td>13</td>\n",
       "      <td>4</td>\n",
       "      <td>19</td>\n",
       "      <td>1</td>\n",
       "      <td>1</td>\n",
       "      <td>0</td>\n",
       "      <td>0</td>\n",
       "    </tr>\n",
       "    <tr>\n",
       "      <th>1996</th>\n",
       "      <td>1965</td>\n",
       "      <td>1</td>\n",
       "      <td>2.6</td>\n",
       "      <td>1</td>\n",
       "      <td>0</td>\n",
       "      <td>0</td>\n",
       "      <td>39</td>\n",
       "      <td>0.2</td>\n",
       "      <td>187</td>\n",
       "      <td>4</td>\n",
       "      <td>...</td>\n",
       "      <td>915</td>\n",
       "      <td>1965</td>\n",
       "      <td>2032</td>\n",
       "      <td>11</td>\n",
       "      <td>10</td>\n",
       "      <td>16</td>\n",
       "      <td>1</td>\n",
       "      <td>1</td>\n",
       "      <td>1</td>\n",
       "      <td>2</td>\n",
       "    </tr>\n",
       "    <tr>\n",
       "      <th>1997</th>\n",
       "      <td>1911</td>\n",
       "      <td>0</td>\n",
       "      <td>0.9</td>\n",
       "      <td>1</td>\n",
       "      <td>1</td>\n",
       "      <td>1</td>\n",
       "      <td>36</td>\n",
       "      <td>0.7</td>\n",
       "      <td>108</td>\n",
       "      <td>8</td>\n",
       "      <td>...</td>\n",
       "      <td>868</td>\n",
       "      <td>1632</td>\n",
       "      <td>3057</td>\n",
       "      <td>9</td>\n",
       "      <td>1</td>\n",
       "      <td>5</td>\n",
       "      <td>1</td>\n",
       "      <td>1</td>\n",
       "      <td>0</td>\n",
       "      <td>3</td>\n",
       "    </tr>\n",
       "    <tr>\n",
       "      <th>1998</th>\n",
       "      <td>1512</td>\n",
       "      <td>0</td>\n",
       "      <td>0.9</td>\n",
       "      <td>0</td>\n",
       "      <td>4</td>\n",
       "      <td>1</td>\n",
       "      <td>46</td>\n",
       "      <td>0.1</td>\n",
       "      <td>145</td>\n",
       "      <td>5</td>\n",
       "      <td>...</td>\n",
       "      <td>336</td>\n",
       "      <td>670</td>\n",
       "      <td>869</td>\n",
       "      <td>18</td>\n",
       "      <td>10</td>\n",
       "      <td>19</td>\n",
       "      <td>1</td>\n",
       "      <td>1</td>\n",
       "      <td>1</td>\n",
       "      <td>0</td>\n",
       "    </tr>\n",
       "    <tr>\n",
       "      <th>1999</th>\n",
       "      <td>510</td>\n",
       "      <td>1</td>\n",
       "      <td>2.0</td>\n",
       "      <td>1</td>\n",
       "      <td>5</td>\n",
       "      <td>1</td>\n",
       "      <td>45</td>\n",
       "      <td>0.9</td>\n",
       "      <td>168</td>\n",
       "      <td>6</td>\n",
       "      <td>...</td>\n",
       "      <td>483</td>\n",
       "      <td>754</td>\n",
       "      <td>3919</td>\n",
       "      <td>19</td>\n",
       "      <td>4</td>\n",
       "      <td>2</td>\n",
       "      <td>1</td>\n",
       "      <td>1</td>\n",
       "      <td>1</td>\n",
       "      <td>3</td>\n",
       "    </tr>\n",
       "  </tbody>\n",
       "</table>\n",
       "<p>2000 rows × 21 columns</p>\n",
       "</div>"
      ],
      "text/plain": [
       "      battery_power  blue  clock_speed  dual_sim  fc  four_g  int_memory  \\\n",
       "0               842     0          2.2         0   1       0           7   \n",
       "1              1021     1          0.5         1   0       1          53   \n",
       "2               563     1          0.5         1   2       1          41   \n",
       "3               615     1          2.5         0   0       0          10   \n",
       "4              1821     1          1.2         0  13       1          44   \n",
       "...             ...   ...          ...       ...  ..     ...         ...   \n",
       "1995            794     1          0.5         1   0       1           2   \n",
       "1996           1965     1          2.6         1   0       0          39   \n",
       "1997           1911     0          0.9         1   1       1          36   \n",
       "1998           1512     0          0.9         0   4       1          46   \n",
       "1999            510     1          2.0         1   5       1          45   \n",
       "\n",
       "      m_dep  mobile_wt  n_cores  ...  px_height  px_width   ram  sc_h  sc_w  \\\n",
       "0       0.6        188        2  ...         20       756  2549     9     7   \n",
       "1       0.7        136        3  ...        905      1988  2631    17     3   \n",
       "2       0.9        145        5  ...       1263      1716  2603    11     2   \n",
       "3       0.8        131        6  ...       1216      1786  2769    16     8   \n",
       "4       0.6        141        2  ...       1208      1212  1411     8     2   \n",
       "...     ...        ...      ...  ...        ...       ...   ...   ...   ...   \n",
       "1995    0.8        106        6  ...       1222      1890   668    13     4   \n",
       "1996    0.2        187        4  ...        915      1965  2032    11    10   \n",
       "1997    0.7        108        8  ...        868      1632  3057     9     1   \n",
       "1998    0.1        145        5  ...        336       670   869    18    10   \n",
       "1999    0.9        168        6  ...        483       754  3919    19     4   \n",
       "\n",
       "      talk_time  three_g  touch_screen  wifi  price_range  \n",
       "0            19        0             0     1            1  \n",
       "1             7        1             1     0            2  \n",
       "2             9        1             1     0            2  \n",
       "3            11        1             0     0            2  \n",
       "4            15        1             1     0            1  \n",
       "...         ...      ...           ...   ...          ...  \n",
       "1995         19        1             1     0            0  \n",
       "1996         16        1             1     1            2  \n",
       "1997          5        1             1     0            3  \n",
       "1998         19        1             1     1            0  \n",
       "1999          2        1             1     1            3  \n",
       "\n",
       "[2000 rows x 21 columns]"
      ]
     },
     "execution_count": 43,
     "metadata": {},
     "output_type": "execute_result"
    }
   ],
   "source": [
    "from pathlib import Path\n",
    "import os\n",
    "\n",
    "import pandas as pd\n",
    "\n",
    "\n",
    "path = Path().resolve()\n",
    "filename = 'mobile_phones.csv'\n",
    "data = pd.read_csv(os.path.join(path, filename))\n",
    "data"
   ]
  },
  {
   "cell_type": "code",
   "execution_count": 44,
   "metadata": {},
   "outputs": [
    {
     "name": "stdout",
     "output_type": "stream",
     "text": [
      "n=2000, rank(X)=4\n"
     ]
    },
    {
     "data": {
      "text/plain": [
       "array([[1.000e+00, 9.000e+00, 7.000e+00, 8.420e+02],\n",
       "       [1.000e+00, 1.700e+01, 3.000e+00, 1.021e+03],\n",
       "       [1.000e+00, 1.100e+01, 2.000e+00, 5.630e+02],\n",
       "       ...,\n",
       "       [1.000e+00, 9.000e+00, 1.000e+00, 1.911e+03],\n",
       "       [1.000e+00, 1.800e+01, 1.000e+01, 1.512e+03],\n",
       "       [1.000e+00, 1.900e+01, 4.000e+00, 5.100e+02]])"
      ]
     },
     "execution_count": 44,
     "metadata": {},
     "output_type": "execute_result"
    }
   ],
   "source": [
    "import numpy as np\n",
    "\n",
    "\n",
    "n = data.shape[0]\n",
    "ones = np.ones(n)\n",
    "x_1 = data['sc_h'].values\n",
    "x_2 = data['sc_w'].values\n",
    "x_3 = data['battery_power'].values\n",
    "X = np.column_stack([ones, x_1, x_2, x_3])\n",
    "print(f'n={n}, rank(X)={np.linalg.matrix_rank(X)}')\n",
    "X"
   ]
  },
  {
   "cell_type": "code",
   "execution_count": 45,
   "metadata": {},
   "outputs": [
    {
     "name": "stdout",
     "output_type": "stream",
     "text": [
      "rank(A)=4\n"
     ]
    },
    {
     "data": {
      "text/plain": [
       "array([[2.00000000e+03, 2.46130000e+04, 1.15340000e+04, 2.47703700e+06],\n",
       "       [2.46130000e+04, 3.38385000e+05, 1.60514000e+05, 3.03727820e+07],\n",
       "       [1.15340000e+04, 1.60514000e+05, 1.04454000e+05, 1.42031020e+07],\n",
       "       [2.47703700e+06, 3.03727820e+07, 1.42031020e+07, 3.45383978e+09]])"
      ]
     },
     "execution_count": 45,
     "metadata": {},
     "output_type": "execute_result"
    }
   ],
   "source": [
    "A = X.T @ X\n",
    "print(f'rank(A)={np.linalg.matrix_rank(A)}')\n",
    "A"
   ]
  },
  {
   "cell_type": "code",
   "execution_count": null,
   "metadata": {},
   "outputs": [
    {
     "name": "stdout",
     "output_type": "stream",
     "text": [
      "rank(A^(-1))=4\n"
     ]
    },
    {
     "data": {
      "text/plain": [
       "array([[ 9.00896294e-03, -3.68170381e-04,  2.10585144e-05,\n",
       "        -3.31001806e-06],\n",
       "       [-3.68170381e-04,  3.79053570e-05, -1.85401139e-05,\n",
       "         6.95100030e-09],\n",
       "       [ 2.10585144e-05, -1.85401139e-05,  3.54395632e-05,\n",
       "         2.20056170e-09],\n",
       "       [-3.31001806e-06,  6.95100030e-09,  2.20056170e-09,\n",
       "         2.59324744e-09]])"
      ]
     },
     "execution_count": 46,
     "metadata": {},
     "output_type": "execute_result"
    }
   ],
   "source": [
    "A_m1 = np.linalg.inv(A)\n",
    "print(f'rank(A^(-1))={np.linalg.matrix_rank(A_m1)}')\n",
    "A_m1"
   ]
  },
  {
   "cell_type": "code",
   "execution_count": null,
   "metadata": {},
   "outputs": [
    {
     "name": "stdout",
     "output_type": "stream",
     "text": [
      "len(hat_c)=4\n"
     ]
    },
    {
     "data": {
      "text/plain": [
       "array([ 1.43640572e+02, -2.63548169e-01, -3.95486159e-02,  6.44803879e-05])"
      ]
     },
     "execution_count": 47,
     "metadata": {},
     "output_type": "execute_result"
    }
   ],
   "source": [
    "Y = data['mobile_wt'].values\n",
    "hat_c = A_m1 @ X.T @ Y\n",
    "print(f'len(hat_c)={len(hat_c)}')\n",
    "hat_c"
   ]
  },
  {
   "cell_type": "code",
   "execution_count": 59,
   "metadata": {},
   "outputs": [
    {
     "data": {
      "text/plain": [
       "array([141.04609091, 139.10744201, 140.69874762, ..., 141.35231214,\n",
       "       138.5987134 , 138.50784758])"
      ]
     },
     "execution_count": 59,
     "metadata": {},
     "output_type": "execute_result"
    }
   ],
   "source": [
    "hat_Y = X @ hat_c\n",
    "hat_Y"
   ]
  },
  {
   "cell_type": "code",
   "execution_count": 60,
   "metadata": {},
   "outputs": [
    {
     "data": {
      "text/plain": [
       "array([ 46.95390909,  -3.10744201,   4.30125238, ..., -33.35231214,\n",
       "         6.4012866 ,  29.49215242])"
      ]
     },
     "execution_count": 60,
     "metadata": {},
     "output_type": "execute_result"
    }
   ],
   "source": [
    "err = Y - hat_Y\n",
    "err"
   ]
  },
  {
   "cell_type": "code",
   "execution_count": 48,
   "metadata": {},
   "outputs": [
    {
     "data": {
      "text/plain": [
       "2502101.030648561"
      ]
     },
     "execution_count": 48,
     "metadata": {},
     "output_type": "execute_result"
    }
   ],
   "source": [
    "Y_m_Xc = Y - X @ hat_c\n",
    "S_2 = Y_m_Xc.T @ Y_m_Xc\n",
    "S_2"
   ]
  },
  {
   "cell_type": "markdown",
   "metadata": {},
   "source": [
    "$x_1, x_2, x_3$ и свободный коэффициент $p=4$"
   ]
  },
  {
   "cell_type": "code",
   "execution_count": null,
   "metadata": {},
   "outputs": [
    {
     "data": {
      "text/plain": [
       "1253.5576305854515"
      ]
     },
     "execution_count": 49,
     "metadata": {},
     "output_type": "execute_result"
    }
   ],
   "source": [
    "p = 3 + 1\n",
    "sigma_2 = S_2 / (n - p)\n",
    "sigma_2"
   ]
  },
  {
   "cell_type": "code",
   "execution_count": null,
   "metadata": {},
   "outputs": [
    {
     "name": "stdout",
     "output_type": "stream",
     "text": [
      "confidence intervals for c_j:\n",
      "137.0500<=c_0<=150.2311\n",
      "-0.6910<=c_1<=0.1639\n",
      "-0.4529<=c_2<=0.3738\n",
      "-0.0035<=c_3<=0.0036\n"
     ]
    }
   ],
   "source": [
    "import scipy.stats as st\n",
    "\n",
    "\n",
    "alpha = 0.05\n",
    "t_1m_a2 = st.t.ppf(1 - alpha / 2, df = n - p)\n",
    "se = np.sqrt(np.diagonal(A_m1) * S_2 / (n - p))\n",
    "interval_lower = hat_c - t_1m_a2 * se\n",
    "interval_upper = hat_c + t_1m_a2 * se\n",
    "print(f'confidence intervals for c_j:')\n",
    "for j in range(p):\n",
    "    print(f'{interval_lower[j]:.4f}<=c_{j}<={interval_upper[j]:.4f}')"
   ]
  },
  {
   "cell_type": "code",
   "execution_count": null,
   "metadata": {},
   "outputs": [
    {
     "data": {
      "text/plain": [
       "0.0011644496581528774"
      ]
     },
     "execution_count": 63,
     "metadata": {},
     "output_type": "execute_result"
    }
   ],
   "source": [
    "R2 = 1 - np.sum((Y - hat_Y) ** 2) / np.sum((Y - Y.mean()) ** 2)\n",
    "R2"
   ]
  },
  {
   "cell_type": "markdown",
   "metadata": {},
   "source": [
    "## Задание 2\n",
    "### Условие\n",
    "\n",
    "Требуется проверить гипотезу о равенстве средних на каждом уровне фактора с помощью модели однофакторного дисперсионного анализа.\n",
    "\n",
    "**Указание**: реализовать самим.\n",
    "\n",
    "В файле [`mobile_phones.csv`](https://drive.google.com/file/d/1O4rFr9xg9aFmkjx4-hl_XOc5O9q65_EW/view) приведены данные о мобильных телефонах. Фактор -- ценовая категория, выходная переменная -- емкость аккумулятора."
   ]
  },
  {
   "cell_type": "markdown",
   "metadata": {},
   "source": [
    "### Выполнение\n",
    "\n",
    "Тут будет выполнение"
   ]
  }
 ],
 "metadata": {
  "kernelspec": {
   "display_name": "Python 3",
   "language": "python",
   "name": "python3"
  },
  "language_info": {
   "codemirror_mode": {
    "name": "ipython",
    "version": 3
   },
   "file_extension": ".py",
   "mimetype": "text/x-python",
   "name": "python",
   "nbconvert_exporter": "python",
   "pygments_lexer": "ipython3",
   "version": "3.12.3"
  }
 },
 "nbformat": 4,
 "nbformat_minor": 2
}
