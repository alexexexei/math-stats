{
 "cells": [
  {
   "cell_type": "markdown",
   "metadata": {},
   "source": [
    "# Математичекая Статистика\n",
    "## Лабораторная Работа №4 «Линейные Модели», Вариант 2 4\n",
    "\n",
    "Румянцев Алексей Александрович, 368731, Поток Мат Стат 31.2"
   ]
  },
  {
   "cell_type": "markdown",
   "metadata": {},
   "source": [
    "## Задание 1\n",
    "### Условие\n",
    "\n",
    "Требуется построить линейную модель (предполагая нормальность распределения ошибок, некоррелированность компонент, гомоскедастичность), вычислить оценки коэффициентов модели и остаточной дисперсии, построить для них доверительные интервалы, вычислить коэффициент детерминации, проверить указанные в условии гипотезы с помощью построенной линейной модели.\n",
    "\n",
    "**Указание**: из встроенных функций разрешается пользоваться квантильными функциями и средствами для квадратичной оптимизации (иными словами, готовую обертку для построения линейной модели не использовать, максимум можете сравнить вашу реализацию с готовой)\n",
    "\n",
    "В файле [`mobile_phones.csv`](https://drive.google.com/file/d/1O4rFr9xg9aFmkjx4-hl_XOc5O9q65_EW/view) представлены данные о мобильных телефонах.\n",
    "1. Постройте линейную модель, где в качестве независимых переменных выступают высота, ширина экрана (атрибуты `sc_h` и `sc_w`) и емкость аккумулятора (вместе со свободным коэффициентом), зависимой -- масса телефона.\n",
    "2. Проверьте следующие подозрения:\n",
    "    1. Чем больше высота экрана, тем больше масса\n",
    "    2. Чем больше ширина экрана, тем больше масса\n",
    "    3. Проверьте гипотезу $H_0$ о равенстве одновременно нулю коэффициентов при ширине экрана и емкости аккумулятора против альтернативы $H_1=\\overline{H_0}$"
   ]
  },
  {
   "cell_type": "markdown",
   "metadata": {},
   "source": [
    "### Выполнение\n",
    "\n",
    "Основной источник информации, использовавшийся для выполнения лабораторной работы -- [презентация](https://drive.google.com/file/d/1ObI68ECLeasAhUNw7pVuLtcvW60I8tb_/view)\n",
    "\n",
    "\n",
    "**Пункт 1.** Модель [линейной регрессии](https://en.wikipedia.org/wiki/Linear_regression) имеет вид\n",
    "\n",
    "$$Y=Xc+\\varepsilon$$\n",
    "$$Y=\\begin{bmatrix}y_1\\\\ y_2\\\\ \\vdots \\\\ y_n\\end{bmatrix},\\ \\ X=\\begin{bmatrix}x_1^T\\\\ x_2^T\\\\ \\vdots \\\\ x_n^T\\end{bmatrix}=\\begin{bmatrix}1 & x_{11} & \\dots & x_{1p}\\\\ 1 & x_{21} & \\dots & x_{2p}\\\\ \\vdots & \\vdots & \\ddots & \\vdots \\\\ 1 & x_{n1} & \\dots & x_{np}\\end{bmatrix},\\ \\ c=\\begin{bmatrix}c_0\\\\c_1\\\\c_2\\\\ \\vdots \\\\ c_p\\end{bmatrix},\\ \\ \\varepsilon=\\begin{bmatrix}\\varepsilon_1\\\\ \\varepsilon_2\\\\ \\vdots \\\\ \\varepsilon_n\\end{bmatrix}$$\n",
    "Здесь $Y$ -- вектор наблюдаемых значений переменной $y_i\\ (i=1,...,n)$, называемой регрессией, $X$ -- матрица дизайна из векторов регрессоров (независимые переменные и свободный коэффициент как вектор из единиц), $c$ -- вектор из коэффициентов регрессии размерности $p+1$, $p$ -- количество предикторов (независимых параметров), $\\varepsilon$ -- вектор ошибок $\\varepsilon_i$.\n",
    "\n",
    "\n",
    "В нашем случае количество независимых параметров 3 плюс свободный коэффициент, тогда $p=4$. Обозначим\n",
    "$$x_1\\text{ -- высота экрана},$$\n",
    "$$x_2\\text{ -- ширина экрана},$$\n",
    "$$x_3\\text{ -- емкость аккумулятора},$$\n",
    "тогда модель линейной регрессии примет вид\n",
    "$$y=c_0+c_1x_1+c_2x_2+c_3x_3+\\varepsilon$$\n",
    "Зададим предположения на $\\varepsilon$\n",
    "$$\\mathbb{E}\\left[\\varepsilon\\right]=0,\\ \\ \\text{Var}\\left[\\varepsilon_i\\right]=\\sigma^2\\text{ -- гомоскедастичность}$$\n",
    "$$\\text{Cov}\\left[\\varepsilon_i,\\varepsilon_j\\right]=0\\text{ -- некоррелированность компонент}$$\n",
    "$$\\varepsilon \\sim \\mathcal{N}\\left(0,\\sigma^2 I_n\\right)\\text{ -- нормальность распределения ошибок}$$\n",
    "Предсказания линейной модели ищутся как\n",
    "$$\\hat{Y}=X\\hat{c}$$\n",
    "Здесь $\\hat{c}$ -- оценки коэффициентов модели, которые выражаются как\n",
    "$$\\hat{c}=\\text{arg min}_{\\mathbb{R}^p}S^2\\left[c\\right]$$\n",
    "Здесь $S^2\\left[c\\right]$ -- квадратическая ошибка, имеющая вид\n",
    "$$S^2\\left[c\\right]=\\left[Y-Xc\\right]^T\\left[Y-Xc\\right]=\\varepsilon^T\\varepsilon$$\n",
    "Обозначим\n",
    "$$A=X^TX,\\ \\ \\text{rank}\\left[A\\right]=p$$\n",
    "Тогда, оценка коэффициентов модели имеет вид\n",
    "$$\\hat{c}=A^{-1}X^TY$$\n",
    "\n",
    "\n",
    "Найдем сначала $\\hat{c}$. Считаем и выведем таблицу"
   ]
  },
  {
   "cell_type": "code",
   "execution_count": 209,
   "metadata": {},
   "outputs": [
    {
     "data": {
      "text/html": [
       "<div>\n",
       "<style scoped>\n",
       "    .dataframe tbody tr th:only-of-type {\n",
       "        vertical-align: middle;\n",
       "    }\n",
       "\n",
       "    .dataframe tbody tr th {\n",
       "        vertical-align: top;\n",
       "    }\n",
       "\n",
       "    .dataframe thead th {\n",
       "        text-align: right;\n",
       "    }\n",
       "</style>\n",
       "<table border=\"1\" class=\"dataframe\">\n",
       "  <thead>\n",
       "    <tr style=\"text-align: right;\">\n",
       "      <th></th>\n",
       "      <th>battery_power</th>\n",
       "      <th>blue</th>\n",
       "      <th>clock_speed</th>\n",
       "      <th>dual_sim</th>\n",
       "      <th>fc</th>\n",
       "      <th>four_g</th>\n",
       "      <th>int_memory</th>\n",
       "      <th>m_dep</th>\n",
       "      <th>mobile_wt</th>\n",
       "      <th>n_cores</th>\n",
       "      <th>...</th>\n",
       "      <th>px_height</th>\n",
       "      <th>px_width</th>\n",
       "      <th>ram</th>\n",
       "      <th>sc_h</th>\n",
       "      <th>sc_w</th>\n",
       "      <th>talk_time</th>\n",
       "      <th>three_g</th>\n",
       "      <th>touch_screen</th>\n",
       "      <th>wifi</th>\n",
       "      <th>price_range</th>\n",
       "    </tr>\n",
       "  </thead>\n",
       "  <tbody>\n",
       "    <tr>\n",
       "      <th>0</th>\n",
       "      <td>842</td>\n",
       "      <td>0</td>\n",
       "      <td>2.2</td>\n",
       "      <td>0</td>\n",
       "      <td>1</td>\n",
       "      <td>0</td>\n",
       "      <td>7</td>\n",
       "      <td>0.6</td>\n",
       "      <td>188</td>\n",
       "      <td>2</td>\n",
       "      <td>...</td>\n",
       "      <td>20</td>\n",
       "      <td>756</td>\n",
       "      <td>2549</td>\n",
       "      <td>9</td>\n",
       "      <td>7</td>\n",
       "      <td>19</td>\n",
       "      <td>0</td>\n",
       "      <td>0</td>\n",
       "      <td>1</td>\n",
       "      <td>1</td>\n",
       "    </tr>\n",
       "    <tr>\n",
       "      <th>1</th>\n",
       "      <td>1021</td>\n",
       "      <td>1</td>\n",
       "      <td>0.5</td>\n",
       "      <td>1</td>\n",
       "      <td>0</td>\n",
       "      <td>1</td>\n",
       "      <td>53</td>\n",
       "      <td>0.7</td>\n",
       "      <td>136</td>\n",
       "      <td>3</td>\n",
       "      <td>...</td>\n",
       "      <td>905</td>\n",
       "      <td>1988</td>\n",
       "      <td>2631</td>\n",
       "      <td>17</td>\n",
       "      <td>3</td>\n",
       "      <td>7</td>\n",
       "      <td>1</td>\n",
       "      <td>1</td>\n",
       "      <td>0</td>\n",
       "      <td>2</td>\n",
       "    </tr>\n",
       "    <tr>\n",
       "      <th>2</th>\n",
       "      <td>563</td>\n",
       "      <td>1</td>\n",
       "      <td>0.5</td>\n",
       "      <td>1</td>\n",
       "      <td>2</td>\n",
       "      <td>1</td>\n",
       "      <td>41</td>\n",
       "      <td>0.9</td>\n",
       "      <td>145</td>\n",
       "      <td>5</td>\n",
       "      <td>...</td>\n",
       "      <td>1263</td>\n",
       "      <td>1716</td>\n",
       "      <td>2603</td>\n",
       "      <td>11</td>\n",
       "      <td>2</td>\n",
       "      <td>9</td>\n",
       "      <td>1</td>\n",
       "      <td>1</td>\n",
       "      <td>0</td>\n",
       "      <td>2</td>\n",
       "    </tr>\n",
       "    <tr>\n",
       "      <th>3</th>\n",
       "      <td>615</td>\n",
       "      <td>1</td>\n",
       "      <td>2.5</td>\n",
       "      <td>0</td>\n",
       "      <td>0</td>\n",
       "      <td>0</td>\n",
       "      <td>10</td>\n",
       "      <td>0.8</td>\n",
       "      <td>131</td>\n",
       "      <td>6</td>\n",
       "      <td>...</td>\n",
       "      <td>1216</td>\n",
       "      <td>1786</td>\n",
       "      <td>2769</td>\n",
       "      <td>16</td>\n",
       "      <td>8</td>\n",
       "      <td>11</td>\n",
       "      <td>1</td>\n",
       "      <td>0</td>\n",
       "      <td>0</td>\n",
       "      <td>2</td>\n",
       "    </tr>\n",
       "    <tr>\n",
       "      <th>4</th>\n",
       "      <td>1821</td>\n",
       "      <td>1</td>\n",
       "      <td>1.2</td>\n",
       "      <td>0</td>\n",
       "      <td>13</td>\n",
       "      <td>1</td>\n",
       "      <td>44</td>\n",
       "      <td>0.6</td>\n",
       "      <td>141</td>\n",
       "      <td>2</td>\n",
       "      <td>...</td>\n",
       "      <td>1208</td>\n",
       "      <td>1212</td>\n",
       "      <td>1411</td>\n",
       "      <td>8</td>\n",
       "      <td>2</td>\n",
       "      <td>15</td>\n",
       "      <td>1</td>\n",
       "      <td>1</td>\n",
       "      <td>0</td>\n",
       "      <td>1</td>\n",
       "    </tr>\n",
       "    <tr>\n",
       "      <th>...</th>\n",
       "      <td>...</td>\n",
       "      <td>...</td>\n",
       "      <td>...</td>\n",
       "      <td>...</td>\n",
       "      <td>...</td>\n",
       "      <td>...</td>\n",
       "      <td>...</td>\n",
       "      <td>...</td>\n",
       "      <td>...</td>\n",
       "      <td>...</td>\n",
       "      <td>...</td>\n",
       "      <td>...</td>\n",
       "      <td>...</td>\n",
       "      <td>...</td>\n",
       "      <td>...</td>\n",
       "      <td>...</td>\n",
       "      <td>...</td>\n",
       "      <td>...</td>\n",
       "      <td>...</td>\n",
       "      <td>...</td>\n",
       "      <td>...</td>\n",
       "    </tr>\n",
       "    <tr>\n",
       "      <th>1995</th>\n",
       "      <td>794</td>\n",
       "      <td>1</td>\n",
       "      <td>0.5</td>\n",
       "      <td>1</td>\n",
       "      <td>0</td>\n",
       "      <td>1</td>\n",
       "      <td>2</td>\n",
       "      <td>0.8</td>\n",
       "      <td>106</td>\n",
       "      <td>6</td>\n",
       "      <td>...</td>\n",
       "      <td>1222</td>\n",
       "      <td>1890</td>\n",
       "      <td>668</td>\n",
       "      <td>13</td>\n",
       "      <td>4</td>\n",
       "      <td>19</td>\n",
       "      <td>1</td>\n",
       "      <td>1</td>\n",
       "      <td>0</td>\n",
       "      <td>0</td>\n",
       "    </tr>\n",
       "    <tr>\n",
       "      <th>1996</th>\n",
       "      <td>1965</td>\n",
       "      <td>1</td>\n",
       "      <td>2.6</td>\n",
       "      <td>1</td>\n",
       "      <td>0</td>\n",
       "      <td>0</td>\n",
       "      <td>39</td>\n",
       "      <td>0.2</td>\n",
       "      <td>187</td>\n",
       "      <td>4</td>\n",
       "      <td>...</td>\n",
       "      <td>915</td>\n",
       "      <td>1965</td>\n",
       "      <td>2032</td>\n",
       "      <td>11</td>\n",
       "      <td>10</td>\n",
       "      <td>16</td>\n",
       "      <td>1</td>\n",
       "      <td>1</td>\n",
       "      <td>1</td>\n",
       "      <td>2</td>\n",
       "    </tr>\n",
       "    <tr>\n",
       "      <th>1997</th>\n",
       "      <td>1911</td>\n",
       "      <td>0</td>\n",
       "      <td>0.9</td>\n",
       "      <td>1</td>\n",
       "      <td>1</td>\n",
       "      <td>1</td>\n",
       "      <td>36</td>\n",
       "      <td>0.7</td>\n",
       "      <td>108</td>\n",
       "      <td>8</td>\n",
       "      <td>...</td>\n",
       "      <td>868</td>\n",
       "      <td>1632</td>\n",
       "      <td>3057</td>\n",
       "      <td>9</td>\n",
       "      <td>1</td>\n",
       "      <td>5</td>\n",
       "      <td>1</td>\n",
       "      <td>1</td>\n",
       "      <td>0</td>\n",
       "      <td>3</td>\n",
       "    </tr>\n",
       "    <tr>\n",
       "      <th>1998</th>\n",
       "      <td>1512</td>\n",
       "      <td>0</td>\n",
       "      <td>0.9</td>\n",
       "      <td>0</td>\n",
       "      <td>4</td>\n",
       "      <td>1</td>\n",
       "      <td>46</td>\n",
       "      <td>0.1</td>\n",
       "      <td>145</td>\n",
       "      <td>5</td>\n",
       "      <td>...</td>\n",
       "      <td>336</td>\n",
       "      <td>670</td>\n",
       "      <td>869</td>\n",
       "      <td>18</td>\n",
       "      <td>10</td>\n",
       "      <td>19</td>\n",
       "      <td>1</td>\n",
       "      <td>1</td>\n",
       "      <td>1</td>\n",
       "      <td>0</td>\n",
       "    </tr>\n",
       "    <tr>\n",
       "      <th>1999</th>\n",
       "      <td>510</td>\n",
       "      <td>1</td>\n",
       "      <td>2.0</td>\n",
       "      <td>1</td>\n",
       "      <td>5</td>\n",
       "      <td>1</td>\n",
       "      <td>45</td>\n",
       "      <td>0.9</td>\n",
       "      <td>168</td>\n",
       "      <td>6</td>\n",
       "      <td>...</td>\n",
       "      <td>483</td>\n",
       "      <td>754</td>\n",
       "      <td>3919</td>\n",
       "      <td>19</td>\n",
       "      <td>4</td>\n",
       "      <td>2</td>\n",
       "      <td>1</td>\n",
       "      <td>1</td>\n",
       "      <td>1</td>\n",
       "      <td>3</td>\n",
       "    </tr>\n",
       "  </tbody>\n",
       "</table>\n",
       "<p>2000 rows × 21 columns</p>\n",
       "</div>"
      ],
      "text/plain": [
       "      battery_power  blue  clock_speed  dual_sim  fc  four_g  int_memory  \\\n",
       "0               842     0          2.2         0   1       0           7   \n",
       "1              1021     1          0.5         1   0       1          53   \n",
       "2               563     1          0.5         1   2       1          41   \n",
       "3               615     1          2.5         0   0       0          10   \n",
       "4              1821     1          1.2         0  13       1          44   \n",
       "...             ...   ...          ...       ...  ..     ...         ...   \n",
       "1995            794     1          0.5         1   0       1           2   \n",
       "1996           1965     1          2.6         1   0       0          39   \n",
       "1997           1911     0          0.9         1   1       1          36   \n",
       "1998           1512     0          0.9         0   4       1          46   \n",
       "1999            510     1          2.0         1   5       1          45   \n",
       "\n",
       "      m_dep  mobile_wt  n_cores  ...  px_height  px_width   ram  sc_h  sc_w  \\\n",
       "0       0.6        188        2  ...         20       756  2549     9     7   \n",
       "1       0.7        136        3  ...        905      1988  2631    17     3   \n",
       "2       0.9        145        5  ...       1263      1716  2603    11     2   \n",
       "3       0.8        131        6  ...       1216      1786  2769    16     8   \n",
       "4       0.6        141        2  ...       1208      1212  1411     8     2   \n",
       "...     ...        ...      ...  ...        ...       ...   ...   ...   ...   \n",
       "1995    0.8        106        6  ...       1222      1890   668    13     4   \n",
       "1996    0.2        187        4  ...        915      1965  2032    11    10   \n",
       "1997    0.7        108        8  ...        868      1632  3057     9     1   \n",
       "1998    0.1        145        5  ...        336       670   869    18    10   \n",
       "1999    0.9        168        6  ...        483       754  3919    19     4   \n",
       "\n",
       "      talk_time  three_g  touch_screen  wifi  price_range  \n",
       "0            19        0             0     1            1  \n",
       "1             7        1             1     0            2  \n",
       "2             9        1             1     0            2  \n",
       "3            11        1             0     0            2  \n",
       "4            15        1             1     0            1  \n",
       "...         ...      ...           ...   ...          ...  \n",
       "1995         19        1             1     0            0  \n",
       "1996         16        1             1     1            2  \n",
       "1997          5        1             1     0            3  \n",
       "1998         19        1             1     1            0  \n",
       "1999          2        1             1     1            3  \n",
       "\n",
       "[2000 rows x 21 columns]"
      ]
     },
     "execution_count": 209,
     "metadata": {},
     "output_type": "execute_result"
    }
   ],
   "source": [
    "from pathlib import Path\n",
    "import os\n",
    "\n",
    "import pandas as pd\n",
    "\n",
    "\n",
    "path = Path().resolve()\n",
    "filename = 'mobile_phones.csv'\n",
    "data = pd.read_csv(os.path.join(path, filename))\n",
    "data"
   ]
  },
  {
   "cell_type": "markdown",
   "metadata": {},
   "source": [
    "Составим $X$ по условию задания. Выведем количество элементов в таблице, ранг матрицы $X$ (он должен быть равен $p$) и саму матрицу дизайна"
   ]
  },
  {
   "cell_type": "code",
   "execution_count": 210,
   "metadata": {},
   "outputs": [
    {
     "name": "stdout",
     "output_type": "stream",
     "text": [
      "n=2000, rank(X)=4\n"
     ]
    },
    {
     "data": {
      "text/plain": [
       "array([[1.000e+00, 9.000e+00, 7.000e+00, 8.420e+02],\n",
       "       [1.000e+00, 1.700e+01, 3.000e+00, 1.021e+03],\n",
       "       [1.000e+00, 1.100e+01, 2.000e+00, 5.630e+02],\n",
       "       ...,\n",
       "       [1.000e+00, 9.000e+00, 1.000e+00, 1.911e+03],\n",
       "       [1.000e+00, 1.800e+01, 1.000e+01, 1.512e+03],\n",
       "       [1.000e+00, 1.900e+01, 4.000e+00, 5.100e+02]])"
      ]
     },
     "execution_count": 210,
     "metadata": {},
     "output_type": "execute_result"
    }
   ],
   "source": [
    "import numpy as np\n",
    "\n",
    "\n",
    "n = data.shape[0]\n",
    "ones = np.ones(n)\n",
    "x_1 = data['sc_h'].values\n",
    "x_2 = data['sc_w'].values\n",
    "x_3 = data['battery_power'].values\n",
    "X = np.column_stack([ones, x_1, x_2, x_3])\n",
    "print(f'n={n}, rank(X)={np.linalg.matrix_rank(X)}')\n",
    "X"
   ]
  },
  {
   "cell_type": "markdown",
   "metadata": {},
   "source": [
    "Составим матрицу $A$ по формуле, приведенной ранее. Выведем ранг этой матрицы (он должен быть равен $p$) и саму матрицу"
   ]
  },
  {
   "cell_type": "code",
   "execution_count": 211,
   "metadata": {},
   "outputs": [
    {
     "name": "stdout",
     "output_type": "stream",
     "text": [
      "rank(A)=4\n"
     ]
    },
    {
     "data": {
      "text/plain": [
       "array([[2.00000000e+03, 2.46130000e+04, 1.15340000e+04, 2.47703700e+06],\n",
       "       [2.46130000e+04, 3.38385000e+05, 1.60514000e+05, 3.03727820e+07],\n",
       "       [1.15340000e+04, 1.60514000e+05, 1.04454000e+05, 1.42031020e+07],\n",
       "       [2.47703700e+06, 3.03727820e+07, 1.42031020e+07, 3.45383978e+09]])"
      ]
     },
     "execution_count": 211,
     "metadata": {},
     "output_type": "execute_result"
    }
   ],
   "source": [
    "A = X.T @ X\n",
    "print(f'rank(A)={np.linalg.matrix_rank(A)}')\n",
    "A"
   ]
  },
  {
   "cell_type": "markdown",
   "metadata": {},
   "source": [
    "Вычислим и выведем обратную матрицу к матрице $A$"
   ]
  },
  {
   "cell_type": "code",
   "execution_count": 212,
   "metadata": {},
   "outputs": [
    {
     "data": {
      "text/plain": [
       "array([[ 9.00896294e-03, -3.68170381e-04,  2.10585144e-05,\n",
       "        -3.31001806e-06],\n",
       "       [-3.68170381e-04,  3.79053570e-05, -1.85401139e-05,\n",
       "         6.95100030e-09],\n",
       "       [ 2.10585144e-05, -1.85401139e-05,  3.54395632e-05,\n",
       "         2.20056170e-09],\n",
       "       [-3.31001806e-06,  6.95100030e-09,  2.20056170e-09,\n",
       "         2.59324744e-09]])"
      ]
     },
     "execution_count": 212,
     "metadata": {},
     "output_type": "execute_result"
    }
   ],
   "source": [
    "A_m1 = np.linalg.inv(A)\n",
    "A_m1"
   ]
  },
  {
   "cell_type": "markdown",
   "metadata": {},
   "source": [
    "По условию задания $Y$ -- масса телефона. Вычислим оценки коэффициентов модели по формуле, приведенной ранее. Выведем результат, должно получиться $p$ коэффициентов"
   ]
  },
  {
   "cell_type": "code",
   "execution_count": 213,
   "metadata": {},
   "outputs": [
    {
     "name": "stdout",
     "output_type": "stream",
     "text": [
      "len(hat_c)=4\n"
     ]
    },
    {
     "data": {
      "text/plain": [
       "array([ 1.43640572e+02, -2.63548169e-01, -3.95486159e-02,  6.44803879e-05])"
      ]
     },
     "execution_count": 213,
     "metadata": {},
     "output_type": "execute_result"
    }
   ],
   "source": [
    "Y = data['mobile_wt'].values\n",
    "hat_c = A_m1 @ X.T @ Y\n",
    "print(f'len(hat_c)={len(hat_c)}')\n",
    "hat_c"
   ]
  },
  {
   "cell_type": "markdown",
   "metadata": {},
   "source": [
    "Получили\n",
    "$$\\hat{c}_0\\text{ -- оценка свободного коэффициента}$$\n",
    "$$\\hat{c}_1\\text{ -- оценка коэффициента при высоте экрана}$$ \n",
    "$$\\hat{c}_2\\text{ -- оценка коэффициента при ширине экрана}$$\n",
    "$$\\hat{c}_3\\text{ -- оценка коэффициента при емкости аккумулятора}$$\n",
    "Воспользуемся этими коэффициентами для вычисления предсказаний $\\hat{Y}$ по заданной $X$. Выведем результат"
   ]
  },
  {
   "cell_type": "code",
   "execution_count": 214,
   "metadata": {},
   "outputs": [
    {
     "data": {
      "text/plain": [
       "array([141.04609091, 139.10744201, 140.69874762, ..., 141.35231214,\n",
       "       138.5987134 , 138.50784758])"
      ]
     },
     "execution_count": 214,
     "metadata": {},
     "output_type": "execute_result"
    }
   ],
   "source": [
    "hat_Y = X @ hat_c\n",
    "hat_Y"
   ]
  },
  {
   "cell_type": "markdown",
   "metadata": {},
   "source": [
    "Посчитаем и выведем квадратическую ошибку $S^2\\left[\\hat{c}\\right]$. Формула приведена ранее"
   ]
  },
  {
   "cell_type": "code",
   "execution_count": 215,
   "metadata": {},
   "outputs": [
    {
     "data": {
      "text/plain": [
       "2502101.030648561"
      ]
     },
     "execution_count": 215,
     "metadata": {},
     "output_type": "execute_result"
    }
   ],
   "source": [
    "Y_m_Xc = Y - X @ hat_c\n",
    "S2 = Y_m_Xc.T @ Y_m_Xc\n",
    "S2"
   ]
  },
  {
   "cell_type": "markdown",
   "metadata": {},
   "source": [
    "Вычислим оценку остаточной дисперсии. Формула имеет вид\n",
    "$$\\hat{\\sigma}^2=\\dfrac{S^2(\\hat{c})}{n-p}$$\n",
    "Напоминание: внутри $p$ уже учитываем наличие свободного коэффициента (вместе с тремя независимыми параметрами), поэтому $p=3+1$. Выведем результат $\\hat{\\sigma}^2$"
   ]
  },
  {
   "cell_type": "code",
   "execution_count": 216,
   "metadata": {},
   "outputs": [
    {
     "data": {
      "text/plain": [
       "1253.5576305854515"
      ]
     },
     "execution_count": 216,
     "metadata": {},
     "output_type": "execute_result"
    }
   ],
   "source": [
    "p = 3 + 1\n",
    "hat_sigma2 = S2 / (n - p)\n",
    "hat_sigma2"
   ]
  },
  {
   "cell_type": "markdown",
   "metadata": {},
   "source": [
    "Найдем доверительный интервал для $c_j$. Отклонение оценки параметра $\\hat{c}_j$​ от истинного значения $c_j$​, нормированное на его стандартную ошибку, подчиняется распределению Стьюдента с $n−p$ степенями свободы\n",
    "$$\\left(\\hat{c}_j-c_j\\right)\\sqrt{\\dfrac{n-p}{A^{-1}_{jj}S^2\\left(\\hat{c}\\right)}}\\sim T(n-p)$$\n",
    "$$\\left(\\hat{c}_j-c_j\\right)\\sqrt{\\dfrac{n-p}{A^{-1}_{jj}S^2\\left(\\hat{c}\\right)}}\\leq t_{1-\\frac{\\alpha}{2},n-p}$$\n",
    "Распределение Стьюдента симметрично, как и нормальное, то есть $t_{\\alpha/2}=-t_{1-\\alpha/2}$\n",
    "$$-t_{1-\\frac{\\alpha}{2},n-p}\\leq \\left(\\hat{c}_j-c_j\\right)\\sqrt{\\dfrac{n-p}{A^{-1}_{jj}S^2\\left(\\hat{c}\\right)}}\\leq t_{1-\\frac{\\alpha}{2},n-p}$$\n",
    "Элементарными действиями выражаем неравенство относительно $c_j$\n",
    "$$\\hat{c}_j-t_{1-\\frac{\\alpha}{2},n-p}\\sqrt{\\dfrac{A^{-1}_{jj}S^2\\left(\\hat{c}\\right)}{n-p}}\\leq c_j\\leq \\hat{c}_j+t_{1-\\frac{\\alpha}{2},n-p}\\sqrt{\\dfrac{A^{-1}_{jj}S^2\\left(\\hat{c}\\right)}{n-p}}$$\n",
    "Зададим 5%-ый уровень значимости. Посчитаем доверительные интервалы для оценок коэффициентов и выведем результаты"
   ]
  },
  {
   "cell_type": "code",
   "execution_count": 217,
   "metadata": {},
   "outputs": [
    {
     "name": "stdout",
     "output_type": "stream",
     "text": [
      "confidence intervals for c_j:\n",
      "137.0500<=c_0<=150.2311\n",
      "-0.6910<=c_1<=0.1639\n",
      "-0.4529<=c_2<=0.3738\n",
      "-0.0035<=c_3<=0.0036\n"
     ]
    }
   ],
   "source": [
    "import scipy.stats as st\n",
    "\n",
    "\n",
    "alpha = 0.05\n",
    "t_1m_a2 = st.t.ppf(1 - alpha / 2, df = n - p)\n",
    "A_m1_diag = np.diagonal(A_m1)\n",
    "se_hat_c = np.sqrt(A_m1_diag * S2 / (n - p))\n",
    "interval_lower = hat_c - t_1m_a2 * se_hat_c\n",
    "interval_upper = hat_c + t_1m_a2 * se_hat_c\n",
    "print(f'confidence intervals for c_j:')\n",
    "for j in range(p):\n",
    "    print(f'{interval_lower[j]:.4f}<=c_{j}<={interval_upper[j]:.4f}')"
   ]
  },
  {
   "cell_type": "markdown",
   "metadata": {},
   "source": [
    "[Коэффициент детерминации](https://net-informations.com/ds/psa/adjusted.htm) выражается как\n",
    "$$R^2=1-\\dfrac{\\sum_{j=1}^{n}\\left(Y-\\hat{Y}\\right)^2}{\\sum_{j=1}^{n}\\left(Y-\\overline{Y}\\right)^2}$$\n",
    "Чем ближе значение к 1, тем лучше модель объясняет данные, и тем сильнее зависимость между переменными. Посчитаем и выведем $R^2$"
   ]
  },
  {
   "cell_type": "code",
   "execution_count": 218,
   "metadata": {},
   "outputs": [
    {
     "data": {
      "text/plain": [
       "0.0011644496581528774"
      ]
     },
     "execution_count": 218,
     "metadata": {},
     "output_type": "execute_result"
    }
   ],
   "source": [
    "R2 = 1 - np.sum((Y - hat_Y) ** 2) / np.sum((Y - Y.mean()) ** 2)\n",
    "R2"
   ]
  },
  {
   "cell_type": "markdown",
   "metadata": {},
   "source": [
    "Похоже, что модель почти не объясняет вариацию зависимой переменной."
   ]
  },
  {
   "cell_type": "markdown",
   "metadata": {},
   "source": [
    "**Пункт 2.** Проверка гипотез. Зададим функцию проверки гипотез"
   ]
  },
  {
   "cell_type": "code",
   "execution_count": 219,
   "metadata": {},
   "outputs": [],
   "source": [
    "ACCEPT = \"Accept null hypothesis\"\n",
    "REJECT = \"Reject null hypothesis with respect to given alternative\"\n",
    "\n",
    "def print_reject_or_accept(condition):\n",
    "  if condition:\n",
    "    print(REJECT)\n",
    "  else:\n",
    "    print(ACCEPT)"
   ]
  },
  {
   "cell_type": "markdown",
   "metadata": {},
   "source": [
    "**Пункт 2.1.** Проверим подозрение \"Чем больше высота экрана, тем больше масса\". Гипотезы будут иметь вид\n",
    "$$H_0: c_1=0\\text{, масса не зависит от высоты экрана}$$\n",
    "$$H_1: c_1>0\\text{, чем больше высота экрана, тем больше масса}$$\n",
    "В случае модели линейной регрессии используем [$t$-тест](https://books.econ.msu.ru/Introduction-to-Econometrics/chap03/3.5/) для $c_j$-го коэффициента\n",
    "$$t=\\dfrac{\\hat{c}_j}{\\text{SE}\\left[\\hat{c}_j\\right]}$$\n",
    "Посчитаем и выведем $t$-статистику"
   ]
  },
  {
   "cell_type": "code",
   "execution_count": 220,
   "metadata": {},
   "outputs": [
    {
     "data": {
      "text/plain": [
       "-1.2090313328632147"
      ]
     },
     "execution_count": 220,
     "metadata": {},
     "output_type": "execute_result"
    }
   ],
   "source": [
    "t_score = hat_c[1] / se_hat_c[1]\n",
    "t_score"
   ]
  },
  {
   "cell_type": "markdown",
   "metadata": {},
   "source": [
    "Зададим 5%-ый уровень значимости. Посчитаем квантильной функцией критическое значение статистики. Если $t>t_{crit}=t_{1-\\alpha,n-p}$, то нулевая гипотеза отвергается (тест правосторонний). Выведем результат"
   ]
  },
  {
   "cell_type": "code",
   "execution_count": 221,
   "metadata": {},
   "outputs": [
    {
     "data": {
      "text/plain": [
       "1.6456173949469155"
      ]
     },
     "execution_count": 221,
     "metadata": {},
     "output_type": "execute_result"
    }
   ],
   "source": [
    "alpha = 0.05\n",
    "t_crit = st.t.ppf(1 - alpha, df = n - p)\n",
    "t_crit"
   ]
  },
  {
   "cell_type": "markdown",
   "metadata": {},
   "source": [
    "Проверим гипотезу. Модуль на статистику не нужен, тест односторонний, учитываем направление. Выведем результат"
   ]
  },
  {
   "cell_type": "code",
   "execution_count": 222,
   "metadata": {},
   "outputs": [
    {
     "name": "stdout",
     "output_type": "stream",
     "text": [
      "Accept null hypothesis\n"
     ]
    }
   ],
   "source": [
    "print_reject_or_accept(t_score > t_crit)"
   ]
  },
  {
   "cell_type": "markdown",
   "metadata": {},
   "source": [
    "Таким образом, **нулевая гипотеза $H_0$ не отвергается**. Для наших данных скорее всего масса телефона не зависит от высоты экрана"
   ]
  },
  {
   "cell_type": "markdown",
   "metadata": {},
   "source": [
    "**Пункт 2.2.** Проверим подозрение \"Чем больше ширина экрана, тем больше масса\". Решение аналогично. Зададим гипотезы\n",
    "$$H_0: c_2=0\\text{, масса не зависит от ширины экрана}$$\n",
    "$$H_1: c_2>0\\text{, чем больше ширина экрана, тем больше масса}$$\n",
    "Проделаем те же шаги, что и для предыдущего пункта. Выведем значение статистики, критическое значение (тест односторонний) и результат проверки гипотез"
   ]
  },
  {
   "cell_type": "code",
   "execution_count": 223,
   "metadata": {},
   "outputs": [
    {
     "name": "stdout",
     "output_type": "stream",
     "text": [
      "t_score=-0.18763547736466346, t_crit=1.6456173949469155\n",
      "Accept null hypothesis\n"
     ]
    }
   ],
   "source": [
    "t_score = hat_c[2] / se_hat_c[2]\n",
    "alpha = 0.05\n",
    "t_crit = st.t.ppf(1 - alpha, df = n - p)\n",
    "print(f't_score={t_score}, t_crit={t_crit}')\n",
    "print_reject_or_accept(t_score > t_crit)"
   ]
  },
  {
   "cell_type": "markdown",
   "metadata": {},
   "source": [
    "**Принимаем нулевую гипотезу $H_0$**. Возможно на наших данных масса телефона не зависит от ширины экрана."
   ]
  },
  {
   "cell_type": "markdown",
   "metadata": {},
   "source": [
    "**Пункт 2.3.** Проверим гипотезу $H_0$ о равенстве одновременно нулю коэффициентов при ширине экрана и емкости аккумулятора против альтернативы $H_1=\\overline{H_0}$. $H_1$ -- по крайней мере один из коэффициентов не равен нулю. Гипотезы будут иметь вид\n",
    "$$H_0: c_2=c_3=0$$\n",
    "$$H_1: \\begin{align*}\\left[\\begin{array}{ll}c_2\\neq 0\\\\ c_3\\neq 0\\end{array}\\right . \\end{align*}$$\n",
    "Проверять будем с помощью [$F$-теста](https://ru.wikipedia.org/wiki/F-%D1%82%D0%B5%D1%81%D1%82). Статистика подчиняется распределению Фишера с $n-p_L$ степенями свободы и имеет вид\n",
    "$$F=\\dfrac{(S^2_S - S^2_L)/q}{S^2_L/(n-p_L)}\\sim F\\left(q,n-p_L\\right)$$\n",
    "Здесь индексы $S$ и $L$ относятся соответственно к короткой (с ограничениями) и длинной (без ограничений) моделям, $q=p_L-p_S$ -- количество ограничений.\n",
    "\n",
    "Создадим ограниченную модель, исключив из нашей модели ширину экрана и емкость аккумулятора (следовательно, кол-во ограничений $p_S=2$). Все шаги аналогичны шагам для построения полной модели. Посчитаем статистику согласно формуле и выведем результат"
   ]
  },
  {
   "cell_type": "code",
   "execution_count": 224,
   "metadata": {},
   "outputs": [
    {
     "data": {
      "text/plain": [
       "0.018292704595200437"
      ]
     },
     "execution_count": 224,
     "metadata": {},
     "output_type": "execute_result"
    }
   ],
   "source": [
    "X_S = np.column_stack([ones, x_1])\n",
    "A_S = X_S.T @ X_S\n",
    "A_S_m1 = np.linalg.inv(A_S)\n",
    "hat_c_S = A_S_m1 @ X_S.T @ Y\n",
    "Y_m_Xc_S = Y - X_S @ hat_c_S\n",
    "S2_S = Y_m_Xc_S.T @ Y_m_Xc_S\n",
    "p_S = 2\n",
    "q = p - p_S\n",
    "f_score = ((S2_S - S2) / q) / (S2 / (n - p))\n",
    "f_score"
   ]
  },
  {
   "cell_type": "markdown",
   "metadata": {},
   "source": [
    "Посчитаем критическое значение статистики. Тест правосторонний. Если $F>F_{crit}=f_{1-\\alpha,\\ dfn,\\ dfd}$, где $dfn$ -- число ограничений на $H_0$, $dfd$ -- степени свободы неограниченной модели, то нулевая гипотеза отвергается. Оставим 5%-ый уровень значимости. Выведем результат"
   ]
  },
  {
   "cell_type": "code",
   "execution_count": 225,
   "metadata": {},
   "outputs": [
    {
     "data": {
      "text/plain": [
       "3.0002329740570084"
      ]
     },
     "execution_count": 225,
     "metadata": {},
     "output_type": "execute_result"
    }
   ],
   "source": [
    "alpha = 0.05\n",
    "f_crit = st.f.ppf(1 - alpha, dfn = q, dfd = n - p)\n",
    "f_crit"
   ]
  },
  {
   "cell_type": "markdown",
   "metadata": {},
   "source": [
    "Выведем результат проверки гипотез"
   ]
  },
  {
   "cell_type": "code",
   "execution_count": 226,
   "metadata": {},
   "outputs": [
    {
     "name": "stdout",
     "output_type": "stream",
     "text": [
      "Accept null hypothesis\n"
     ]
    }
   ],
   "source": [
    "print_reject_or_accept(f_score > f_crit)"
   ]
  },
  {
   "cell_type": "markdown",
   "metadata": {},
   "source": [
    "**Нулевая гипотеза $H_0$ не отвергается**. Выходит, что для наших данных скорее всего предикторы $x_2$ и $x_3$ не оказывают значимого влияния на зависимую переменную (массу телефона)."
   ]
  },
  {
   "cell_type": "markdown",
   "metadata": {},
   "source": [
    "## Задание 2\n",
    "### Условие\n",
    "\n",
    "Требуется проверить гипотезу о равенстве средних на каждом уровне фактора с помощью модели однофакторного дисперсионного анализа.\n",
    "\n",
    "**Указание**: реализовать самим.\n",
    "\n",
    "В файле [`mobile_phones.csv`](https://drive.google.com/file/d/1O4rFr9xg9aFmkjx4-hl_XOc5O9q65_EW/view) приведены данные о мобильных телефонах. Фактор -- ценовая категория, выходная переменная -- емкость аккумулятора."
   ]
  },
  {
   "cell_type": "markdown",
   "metadata": {},
   "source": [
    "### Выполнение\n",
    "\n",
    "Нулевая гипотеза -- средние значения емкости аккумулятора для всех уровней ценовой категории одинаковы, альтернативная -- средние значения емкости аккумулятора для хотя бы двух уровней ценовой категории различны\n",
    "$$H_0: \\mu_1=\\mu_2=...=\\mu_J$$\n",
    "$$H_1: \\exists\\ \\mu_i,\\mu_j: \\mu_i\\neq\\mu_j,\\ i\\neq j,\\ i,j\\leq J$$\n",
    "Для решения задачи понадобится частный случай линейной модели \"One-way ANOVA\". Статистика подчиняется распределению Фишера со степенями свободы $J-1$ для межгрупповой дисперсии и $I-J$ для внутригрупповой и имеет вид\n",
    "$$F=\\dfrac{MS_B}{MS_W}\\sim F\\left(J-1,I-J\\right)$$\n",
    "Здесь $I=I_1+I_2+...+I_J$ -- общее число наблюдений в группах ($i$ -- номер наблюдения, $1\\leq i\\leq I_J$), $J$ -- количество уровней фактора ($j$ -- уровень фактора, $1\\leq j\\leq J$), $MS_B$ -- оценка межгрупповой дисперсии\n",
    "$$MS_B=\\dfrac{S_B}{J-1},\\ \\ S_B=\\sum\\limits_{j=1}^{J}n_j\\left(\\overline{y_{*,j}}-\\overline{y}\\right)^2,$$\n",
    "где $n_j$ -- размер $j$-ой группы, $\\overline{y_{*,j}}$ -- усреднение внутри группы, т.е. при фиксированном $j$. $MS_W$ -- оценка внутригрупповой дисперсии\n",
    "$$MS_W=\\dfrac{S_w}{I - J},\\ \\ S_W=\\sum_{j}^{J}\\sum_{i}^{I_J}\\left(y_{i,j}-\\overline{y_{*,j}}\\right)^2$$\n",
    "Критическая область -- правосторонняя.\n",
    "\n",
    "Считаем данные и выведем таблицу"
   ]
  },
  {
   "cell_type": "code",
   "execution_count": 227,
   "metadata": {},
   "outputs": [
    {
     "data": {
      "text/html": [
       "<div>\n",
       "<style scoped>\n",
       "    .dataframe tbody tr th:only-of-type {\n",
       "        vertical-align: middle;\n",
       "    }\n",
       "\n",
       "    .dataframe tbody tr th {\n",
       "        vertical-align: top;\n",
       "    }\n",
       "\n",
       "    .dataframe thead th {\n",
       "        text-align: right;\n",
       "    }\n",
       "</style>\n",
       "<table border=\"1\" class=\"dataframe\">\n",
       "  <thead>\n",
       "    <tr style=\"text-align: right;\">\n",
       "      <th></th>\n",
       "      <th>battery_power</th>\n",
       "      <th>blue</th>\n",
       "      <th>clock_speed</th>\n",
       "      <th>dual_sim</th>\n",
       "      <th>fc</th>\n",
       "      <th>four_g</th>\n",
       "      <th>int_memory</th>\n",
       "      <th>m_dep</th>\n",
       "      <th>mobile_wt</th>\n",
       "      <th>n_cores</th>\n",
       "      <th>...</th>\n",
       "      <th>px_height</th>\n",
       "      <th>px_width</th>\n",
       "      <th>ram</th>\n",
       "      <th>sc_h</th>\n",
       "      <th>sc_w</th>\n",
       "      <th>talk_time</th>\n",
       "      <th>three_g</th>\n",
       "      <th>touch_screen</th>\n",
       "      <th>wifi</th>\n",
       "      <th>price_range</th>\n",
       "    </tr>\n",
       "  </thead>\n",
       "  <tbody>\n",
       "    <tr>\n",
       "      <th>0</th>\n",
       "      <td>842</td>\n",
       "      <td>0</td>\n",
       "      <td>2.2</td>\n",
       "      <td>0</td>\n",
       "      <td>1</td>\n",
       "      <td>0</td>\n",
       "      <td>7</td>\n",
       "      <td>0.6</td>\n",
       "      <td>188</td>\n",
       "      <td>2</td>\n",
       "      <td>...</td>\n",
       "      <td>20</td>\n",
       "      <td>756</td>\n",
       "      <td>2549</td>\n",
       "      <td>9</td>\n",
       "      <td>7</td>\n",
       "      <td>19</td>\n",
       "      <td>0</td>\n",
       "      <td>0</td>\n",
       "      <td>1</td>\n",
       "      <td>1</td>\n",
       "    </tr>\n",
       "    <tr>\n",
       "      <th>1</th>\n",
       "      <td>1021</td>\n",
       "      <td>1</td>\n",
       "      <td>0.5</td>\n",
       "      <td>1</td>\n",
       "      <td>0</td>\n",
       "      <td>1</td>\n",
       "      <td>53</td>\n",
       "      <td>0.7</td>\n",
       "      <td>136</td>\n",
       "      <td>3</td>\n",
       "      <td>...</td>\n",
       "      <td>905</td>\n",
       "      <td>1988</td>\n",
       "      <td>2631</td>\n",
       "      <td>17</td>\n",
       "      <td>3</td>\n",
       "      <td>7</td>\n",
       "      <td>1</td>\n",
       "      <td>1</td>\n",
       "      <td>0</td>\n",
       "      <td>2</td>\n",
       "    </tr>\n",
       "    <tr>\n",
       "      <th>2</th>\n",
       "      <td>563</td>\n",
       "      <td>1</td>\n",
       "      <td>0.5</td>\n",
       "      <td>1</td>\n",
       "      <td>2</td>\n",
       "      <td>1</td>\n",
       "      <td>41</td>\n",
       "      <td>0.9</td>\n",
       "      <td>145</td>\n",
       "      <td>5</td>\n",
       "      <td>...</td>\n",
       "      <td>1263</td>\n",
       "      <td>1716</td>\n",
       "      <td>2603</td>\n",
       "      <td>11</td>\n",
       "      <td>2</td>\n",
       "      <td>9</td>\n",
       "      <td>1</td>\n",
       "      <td>1</td>\n",
       "      <td>0</td>\n",
       "      <td>2</td>\n",
       "    </tr>\n",
       "    <tr>\n",
       "      <th>3</th>\n",
       "      <td>615</td>\n",
       "      <td>1</td>\n",
       "      <td>2.5</td>\n",
       "      <td>0</td>\n",
       "      <td>0</td>\n",
       "      <td>0</td>\n",
       "      <td>10</td>\n",
       "      <td>0.8</td>\n",
       "      <td>131</td>\n",
       "      <td>6</td>\n",
       "      <td>...</td>\n",
       "      <td>1216</td>\n",
       "      <td>1786</td>\n",
       "      <td>2769</td>\n",
       "      <td>16</td>\n",
       "      <td>8</td>\n",
       "      <td>11</td>\n",
       "      <td>1</td>\n",
       "      <td>0</td>\n",
       "      <td>0</td>\n",
       "      <td>2</td>\n",
       "    </tr>\n",
       "    <tr>\n",
       "      <th>4</th>\n",
       "      <td>1821</td>\n",
       "      <td>1</td>\n",
       "      <td>1.2</td>\n",
       "      <td>0</td>\n",
       "      <td>13</td>\n",
       "      <td>1</td>\n",
       "      <td>44</td>\n",
       "      <td>0.6</td>\n",
       "      <td>141</td>\n",
       "      <td>2</td>\n",
       "      <td>...</td>\n",
       "      <td>1208</td>\n",
       "      <td>1212</td>\n",
       "      <td>1411</td>\n",
       "      <td>8</td>\n",
       "      <td>2</td>\n",
       "      <td>15</td>\n",
       "      <td>1</td>\n",
       "      <td>1</td>\n",
       "      <td>0</td>\n",
       "      <td>1</td>\n",
       "    </tr>\n",
       "    <tr>\n",
       "      <th>...</th>\n",
       "      <td>...</td>\n",
       "      <td>...</td>\n",
       "      <td>...</td>\n",
       "      <td>...</td>\n",
       "      <td>...</td>\n",
       "      <td>...</td>\n",
       "      <td>...</td>\n",
       "      <td>...</td>\n",
       "      <td>...</td>\n",
       "      <td>...</td>\n",
       "      <td>...</td>\n",
       "      <td>...</td>\n",
       "      <td>...</td>\n",
       "      <td>...</td>\n",
       "      <td>...</td>\n",
       "      <td>...</td>\n",
       "      <td>...</td>\n",
       "      <td>...</td>\n",
       "      <td>...</td>\n",
       "      <td>...</td>\n",
       "      <td>...</td>\n",
       "    </tr>\n",
       "    <tr>\n",
       "      <th>1995</th>\n",
       "      <td>794</td>\n",
       "      <td>1</td>\n",
       "      <td>0.5</td>\n",
       "      <td>1</td>\n",
       "      <td>0</td>\n",
       "      <td>1</td>\n",
       "      <td>2</td>\n",
       "      <td>0.8</td>\n",
       "      <td>106</td>\n",
       "      <td>6</td>\n",
       "      <td>...</td>\n",
       "      <td>1222</td>\n",
       "      <td>1890</td>\n",
       "      <td>668</td>\n",
       "      <td>13</td>\n",
       "      <td>4</td>\n",
       "      <td>19</td>\n",
       "      <td>1</td>\n",
       "      <td>1</td>\n",
       "      <td>0</td>\n",
       "      <td>0</td>\n",
       "    </tr>\n",
       "    <tr>\n",
       "      <th>1996</th>\n",
       "      <td>1965</td>\n",
       "      <td>1</td>\n",
       "      <td>2.6</td>\n",
       "      <td>1</td>\n",
       "      <td>0</td>\n",
       "      <td>0</td>\n",
       "      <td>39</td>\n",
       "      <td>0.2</td>\n",
       "      <td>187</td>\n",
       "      <td>4</td>\n",
       "      <td>...</td>\n",
       "      <td>915</td>\n",
       "      <td>1965</td>\n",
       "      <td>2032</td>\n",
       "      <td>11</td>\n",
       "      <td>10</td>\n",
       "      <td>16</td>\n",
       "      <td>1</td>\n",
       "      <td>1</td>\n",
       "      <td>1</td>\n",
       "      <td>2</td>\n",
       "    </tr>\n",
       "    <tr>\n",
       "      <th>1997</th>\n",
       "      <td>1911</td>\n",
       "      <td>0</td>\n",
       "      <td>0.9</td>\n",
       "      <td>1</td>\n",
       "      <td>1</td>\n",
       "      <td>1</td>\n",
       "      <td>36</td>\n",
       "      <td>0.7</td>\n",
       "      <td>108</td>\n",
       "      <td>8</td>\n",
       "      <td>...</td>\n",
       "      <td>868</td>\n",
       "      <td>1632</td>\n",
       "      <td>3057</td>\n",
       "      <td>9</td>\n",
       "      <td>1</td>\n",
       "      <td>5</td>\n",
       "      <td>1</td>\n",
       "      <td>1</td>\n",
       "      <td>0</td>\n",
       "      <td>3</td>\n",
       "    </tr>\n",
       "    <tr>\n",
       "      <th>1998</th>\n",
       "      <td>1512</td>\n",
       "      <td>0</td>\n",
       "      <td>0.9</td>\n",
       "      <td>0</td>\n",
       "      <td>4</td>\n",
       "      <td>1</td>\n",
       "      <td>46</td>\n",
       "      <td>0.1</td>\n",
       "      <td>145</td>\n",
       "      <td>5</td>\n",
       "      <td>...</td>\n",
       "      <td>336</td>\n",
       "      <td>670</td>\n",
       "      <td>869</td>\n",
       "      <td>18</td>\n",
       "      <td>10</td>\n",
       "      <td>19</td>\n",
       "      <td>1</td>\n",
       "      <td>1</td>\n",
       "      <td>1</td>\n",
       "      <td>0</td>\n",
       "    </tr>\n",
       "    <tr>\n",
       "      <th>1999</th>\n",
       "      <td>510</td>\n",
       "      <td>1</td>\n",
       "      <td>2.0</td>\n",
       "      <td>1</td>\n",
       "      <td>5</td>\n",
       "      <td>1</td>\n",
       "      <td>45</td>\n",
       "      <td>0.9</td>\n",
       "      <td>168</td>\n",
       "      <td>6</td>\n",
       "      <td>...</td>\n",
       "      <td>483</td>\n",
       "      <td>754</td>\n",
       "      <td>3919</td>\n",
       "      <td>19</td>\n",
       "      <td>4</td>\n",
       "      <td>2</td>\n",
       "      <td>1</td>\n",
       "      <td>1</td>\n",
       "      <td>1</td>\n",
       "      <td>3</td>\n",
       "    </tr>\n",
       "  </tbody>\n",
       "</table>\n",
       "<p>2000 rows × 21 columns</p>\n",
       "</div>"
      ],
      "text/plain": [
       "      battery_power  blue  clock_speed  dual_sim  fc  four_g  int_memory  \\\n",
       "0               842     0          2.2         0   1       0           7   \n",
       "1              1021     1          0.5         1   0       1          53   \n",
       "2               563     1          0.5         1   2       1          41   \n",
       "3               615     1          2.5         0   0       0          10   \n",
       "4              1821     1          1.2         0  13       1          44   \n",
       "...             ...   ...          ...       ...  ..     ...         ...   \n",
       "1995            794     1          0.5         1   0       1           2   \n",
       "1996           1965     1          2.6         1   0       0          39   \n",
       "1997           1911     0          0.9         1   1       1          36   \n",
       "1998           1512     0          0.9         0   4       1          46   \n",
       "1999            510     1          2.0         1   5       1          45   \n",
       "\n",
       "      m_dep  mobile_wt  n_cores  ...  px_height  px_width   ram  sc_h  sc_w  \\\n",
       "0       0.6        188        2  ...         20       756  2549     9     7   \n",
       "1       0.7        136        3  ...        905      1988  2631    17     3   \n",
       "2       0.9        145        5  ...       1263      1716  2603    11     2   \n",
       "3       0.8        131        6  ...       1216      1786  2769    16     8   \n",
       "4       0.6        141        2  ...       1208      1212  1411     8     2   \n",
       "...     ...        ...      ...  ...        ...       ...   ...   ...   ...   \n",
       "1995    0.8        106        6  ...       1222      1890   668    13     4   \n",
       "1996    0.2        187        4  ...        915      1965  2032    11    10   \n",
       "1997    0.7        108        8  ...        868      1632  3057     9     1   \n",
       "1998    0.1        145        5  ...        336       670   869    18    10   \n",
       "1999    0.9        168        6  ...        483       754  3919    19     4   \n",
       "\n",
       "      talk_time  three_g  touch_screen  wifi  price_range  \n",
       "0            19        0             0     1            1  \n",
       "1             7        1             1     0            2  \n",
       "2             9        1             1     0            2  \n",
       "3            11        1             0     0            2  \n",
       "4            15        1             1     0            1  \n",
       "...         ...      ...           ...   ...          ...  \n",
       "1995         19        1             1     0            0  \n",
       "1996         16        1             1     1            2  \n",
       "1997          5        1             1     0            3  \n",
       "1998         19        1             1     1            0  \n",
       "1999          2        1             1     1            3  \n",
       "\n",
       "[2000 rows x 21 columns]"
      ]
     },
     "execution_count": 227,
     "metadata": {},
     "output_type": "execute_result"
    }
   ],
   "source": [
    "from pathlib import Path\n",
    "import os\n",
    "\n",
    "import pandas as pd\n",
    "\n",
    "\n",
    "path = Path().resolve()\n",
    "filename = 'mobile_phones.csv'\n",
    "data = pd.read_csv(os.path.join(path, filename))\n",
    "data"
   ]
  },
  {
   "cell_type": "markdown",
   "metadata": {},
   "source": [
    "Нам понадобятся столбцы `price_range` и `battery_power`. Разделим `battery_power` на группы в соответствии со значениями `price_range`. В группах будут находиться $$y_{i,j}=\\mu_j+\\varepsilon_{i,j},$$ где $\\varepsilon_{i,j}$ -- центрированные независимые гауссовские величины с одинаковой дисперсией. Выведем количество групп и соответствующую каждой группе размерность"
   ]
  },
  {
   "cell_type": "code",
   "execution_count": 228,
   "metadata": {},
   "outputs": [
    {
     "data": {
      "text/plain": [
       "price_range\n",
       "0    500\n",
       "1    500\n",
       "2    500\n",
       "3    500\n",
       "Name: battery_power, dtype: int64"
      ]
     },
     "execution_count": 228,
     "metadata": {},
     "output_type": "execute_result"
    }
   ],
   "source": [
    "groups = data.groupby('price_range')['battery_power']\n",
    "groups.size()"
   ]
  },
  {
   "cell_type": "markdown",
   "metadata": {},
   "source": [
    "Вышло 4 группы `price_range` по 500 элементов из `battery_power`. Найдем усреднения внутри группы $\\overline{y_{*,j}}$ и общее среднее $\\overline{y}$ по всем группам. Выведем результаты"
   ]
  },
  {
   "cell_type": "code",
   "execution_count": null,
   "metadata": {},
   "outputs": [
    {
     "name": "stdout",
     "output_type": "stream",
     "text": [
      "y_*j_mean:\n",
      "price_range\n",
      "0    1116.902\n",
      "1    1228.868\n",
      "2    1228.320\n",
      "3    1379.984\n",
      "Name: battery_power, dtype: float64\n",
      "y_mean=1238.5185\n"
     ]
    }
   ],
   "source": [
    "y_xj_mean = groups.mean()\n",
    "y_mean = data['battery_power'].mean()\n",
    "print(f'y_*j_mean:\\n{y_xj_mean}\\ny_mean={y_mean}')"
   ]
  },
  {
   "cell_type": "markdown",
   "metadata": {},
   "source": [
    "Посчитаем $S_W$ по приведенной ранее формуле. Выведем результат"
   ]
  },
  {
   "cell_type": "code",
   "execution_count": 230,
   "metadata": {},
   "outputs": [
    {
     "data": {
      "text/plain": [
       "368483530.1580001"
      ]
     },
     "execution_count": 230,
     "metadata": {},
     "output_type": "execute_result"
    }
   ],
   "source": [
    "J = len(data['price_range'].unique())\n",
    "S_W = 0\n",
    "for j in range(J):\n",
    "    group = groups.get_group(j)\n",
    "    y_ij_mean = y_xj_mean.values[j]\n",
    "    for y_ij in group:\n",
    "        S_W += (y_ij - y_ij_mean) ** 2\n",
    "S_W"
   ]
  },
  {
   "cell_type": "markdown",
   "metadata": {},
   "source": [
    "В соответствии с формулой, приведенной ранее, вычислим значение $MS_W$. Выведем результат"
   ]
  },
  {
   "cell_type": "code",
   "execution_count": 231,
   "metadata": {},
   "outputs": [
    {
     "data": {
      "text/plain": [
       "184610.98705310628"
      ]
     },
     "execution_count": 231,
     "metadata": {},
     "output_type": "execute_result"
    }
   ],
   "source": [
    "I = len(data)\n",
    "MS_W = S_W / (I - J)\n",
    "MS_W"
   ]
  },
  {
   "cell_type": "markdown",
   "metadata": {},
   "source": [
    "Вычислим по приведенной ранее формуле $S_B$. Выведем результат"
   ]
  },
  {
   "cell_type": "code",
   "execution_count": 232,
   "metadata": {},
   "outputs": [
    {
     "data": {
      "text/plain": [
       "17500101.157499984"
      ]
     },
     "execution_count": 232,
     "metadata": {},
     "output_type": "execute_result"
    }
   ],
   "source": [
    "n_j = groups.size().values\n",
    "S_B = np.sum(n_j * (y_xj_mean.values - y_mean) ** 2)\n",
    "S_B"
   ]
  },
  {
   "cell_type": "markdown",
   "metadata": {},
   "source": [
    "Используем $S_B$ для вычисления $MS_B$ в соответствии с приведенной ранее формулой. Выведем результат"
   ]
  },
  {
   "cell_type": "code",
   "execution_count": 233,
   "metadata": {},
   "outputs": [
    {
     "data": {
      "text/plain": [
       "5833367.052499995"
      ]
     },
     "execution_count": 233,
     "metadata": {},
     "output_type": "execute_result"
    }
   ],
   "source": [
    "MS_B = S_B / (J - 1)\n",
    "MS_B"
   ]
  },
  {
   "cell_type": "markdown",
   "metadata": {},
   "source": [
    "Посчитаем и выведем статистику, используя формулу, приведенную в теории для задания"
   ]
  },
  {
   "cell_type": "code",
   "execution_count": 234,
   "metadata": {},
   "outputs": [
    {
     "data": {
      "text/plain": [
       "31.598157539897308"
      ]
     },
     "execution_count": 234,
     "metadata": {},
     "output_type": "execute_result"
    }
   ],
   "source": [
    "f_score = MS_B / MS_W\n",
    "f_score"
   ]
  },
  {
   "cell_type": "markdown",
   "metadata": {},
   "source": [
    "Найдем критическое значение статистики. Напоминание: тест правосторонний. Если $F>F_{crit}=f_{1-\\alpha,\\ dfn,\\ dfd}$, где $dfn$ -- степени свободы для межгрупповой дисперсии $MS_B$, $dfd$ -- степени свободы для внутригрупповой дисперсии $MS_W$, то отвергаем нулевую гипотезу. Оставим 5%-ый уровень значимости. Выведем результат"
   ]
  },
  {
   "cell_type": "code",
   "execution_count": 235,
   "metadata": {},
   "outputs": [
    {
     "data": {
      "text/plain": [
       "2.6093607480930223"
      ]
     },
     "execution_count": 235,
     "metadata": {},
     "output_type": "execute_result"
    }
   ],
   "source": [
    "alpha = 0.05\n",
    "f_crit = st.f.ppf(1 - alpha, dfn = J - 1, dfd = I - J)\n",
    "f_crit"
   ]
  },
  {
   "cell_type": "markdown",
   "metadata": {},
   "source": [
    "Воспользуемся функцией для проверки гипотез. Выведем результат"
   ]
  },
  {
   "cell_type": "code",
   "execution_count": 236,
   "metadata": {},
   "outputs": [
    {
     "name": "stdout",
     "output_type": "stream",
     "text": [
      "Reject null hypothesis with respect to given alternative\n"
     ]
    }
   ],
   "source": [
    "print_reject_or_accept(f_score > f_crit)"
   ]
  },
  {
   "cell_type": "markdown",
   "metadata": {},
   "source": [
    "Таким образом, **отвергаем нулевую гипотезу $H_0$**. Для наших данных ценовая категория влияет на емкость аккумулятора."
   ]
  },
  {
   "cell_type": "markdown",
   "metadata": {},
   "source": [
    "Проверим наши вычисления библиотечной функцией `f_oneway`. Выведем статистику"
   ]
  },
  {
   "cell_type": "code",
   "execution_count": 237,
   "metadata": {},
   "outputs": [
    {
     "data": {
      "text/plain": [
       "31.598157539897333"
      ]
     },
     "execution_count": 237,
     "metadata": {},
     "output_type": "execute_result"
    }
   ],
   "source": [
    "group_1 = groups.get_group(0)\n",
    "group_2 = groups.get_group(1)\n",
    "group_3 = groups.get_group(2)\n",
    "group_4 = groups.get_group(3)\n",
    "f_stat, p_value = st.f_oneway(group_1, group_2, group_3, group_4)\n",
    "f_stat"
   ]
  },
  {
   "cell_type": "markdown",
   "metadata": {},
   "source": [
    "Разница между нашими вычислениями и библиотечными минимальна, следовательно статистика посчитана верно. Наши выводы корректны"
   ]
  }
 ],
 "metadata": {
  "kernelspec": {
   "display_name": "Python 3",
   "language": "python",
   "name": "python3"
  },
  "language_info": {
   "codemirror_mode": {
    "name": "ipython",
    "version": 3
   },
   "file_extension": ".py",
   "mimetype": "text/x-python",
   "name": "python",
   "nbconvert_exporter": "python",
   "pygments_lexer": "ipython3",
   "version": "3.12.3"
  }
 },
 "nbformat": 4,
 "nbformat_minor": 2
}
