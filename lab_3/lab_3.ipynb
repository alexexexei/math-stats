{
 "cells": [
  {
   "cell_type": "markdown",
   "metadata": {},
   "source": [
    "# Математичекая Статистика\n",
    "## Лабораторная Работа №3 «Статистические Гипотезы», Вариант 5\n",
    "\n",
    "Румянцев Алексей Александрович, 368731, Поток Мат Стат 31.2"
   ]
  },
  {
   "cell_type": "markdown",
   "metadata": {},
   "source": [
    "### Условие задания\n",
    "\n",
    "Для каждой проблемы нужно провести два статистических теста, если не сказано иное, причем первый из критериев нужно реализовать самостоятельно (считать и выводить значение статистики, критическое значение, `p-value`), в качестве второго можно воспользоваться готовой реализацией. Также нужно отдельно указывать, как формализуются $Н_0$ и $Н_1$ для выбранных тестов. Уровень значимости выбираете сами.\n",
    "\n",
    "В файле [`song_data.csv`](https://drive.google.com/file/d/1KRbKtVb6Xkyc8_2gKT9G6N5N_yD7FQXC/view) представлены данные о музыкальных произведениях\n",
    "1. Предположите с каким вероятностным законом распределен рейтинг песни. С помощью стат. теста подтвердите/опровергните это предположение.\n",
    "2. Верно ли, что распределение рейтинга у коротких и длинных песен одинаково (порог продолжительности выбирайте сами)?\n",
    "3. Верно ли, что рейтинг и танцевальность связаны?"
   ]
  },
  {
   "cell_type": "markdown",
   "metadata": {},
   "source": [
    "### Выполнение\n",
    "\n",
    "H_0 нормальное. [Источник 1](http://www.machinelearning.ru/wiki/index.php?title=%D0%9F%D1%80%D0%BE%D0%B2%D0%B5%D1%80%D0%BA%D0%B0_%D1%81%D1%82%D0%B0%D1%82%D0%B8%D1%81%D1%82%D0%B8%D1%87%D0%B5%D1%81%D0%BA%D0%B8%D1%85_%D0%B3%D0%B8%D0%BF%D0%BE%D1%82%D0%B5%D0%B7), [Источник 2](https://ru.wikipedia.org/wiki/%D0%9D%D0%BE%D1%80%D0%BC%D0%B0%D0%BB%D1%8C%D0%BD%D0%BE%D0%B5_%D1%80%D0%B0%D1%81%D0%BF%D1%80%D0%B5%D0%B4%D0%B5%D0%BB%D0%B5%D0%BD%D0%B8%D0%B5), [Источник 3](https://docs.scipy.org/doc/scipy/reference/generated/scipy.stats.norm.html), [Источник 4](https://cdn.scribbr.com/wp-content/uploads/2022/05/chi-square-distribution-table.png)"
   ]
  },
  {
   "cell_type": "code",
   "execution_count": 752,
   "metadata": {},
   "outputs": [],
   "source": [
    "ACCEPT = \"Accept null hypothesis\"\n",
    "REJECT = \"Reject null hypothesis with respect to given alternative\"\n",
    "\n",
    "def print_reject_or_accept(condition):\n",
    "  if condition:\n",
    "    print(REJECT)\n",
    "  else:\n",
    "    print(ACCEPT)"
   ]
  },
  {
   "cell_type": "code",
   "execution_count": 753,
   "metadata": {},
   "outputs": [
    {
     "data": {
      "text/html": [
       "<div>\n",
       "<style scoped>\n",
       "    .dataframe tbody tr th:only-of-type {\n",
       "        vertical-align: middle;\n",
       "    }\n",
       "\n",
       "    .dataframe tbody tr th {\n",
       "        vertical-align: top;\n",
       "    }\n",
       "\n",
       "    .dataframe thead th {\n",
       "        text-align: right;\n",
       "    }\n",
       "</style>\n",
       "<table border=\"1\" class=\"dataframe\">\n",
       "  <thead>\n",
       "    <tr style=\"text-align: right;\">\n",
       "      <th></th>\n",
       "      <th>song_name</th>\n",
       "      <th>song_popularity</th>\n",
       "      <th>song_duration_ms</th>\n",
       "      <th>acousticness</th>\n",
       "      <th>danceability</th>\n",
       "      <th>energy</th>\n",
       "      <th>instrumentalness</th>\n",
       "      <th>key</th>\n",
       "      <th>liveness</th>\n",
       "      <th>loudness</th>\n",
       "      <th>audio_mode</th>\n",
       "      <th>speechiness</th>\n",
       "      <th>tempo</th>\n",
       "      <th>time_signature</th>\n",
       "      <th>audio_valence</th>\n",
       "    </tr>\n",
       "  </thead>\n",
       "  <tbody>\n",
       "    <tr>\n",
       "      <th>0</th>\n",
       "      <td>Boulevard of Broken Dreams</td>\n",
       "      <td>73</td>\n",
       "      <td>262333</td>\n",
       "      <td>0.005520</td>\n",
       "      <td>0.496</td>\n",
       "      <td>0.682</td>\n",
       "      <td>0.000029</td>\n",
       "      <td>8</td>\n",
       "      <td>0.0589</td>\n",
       "      <td>-4.095</td>\n",
       "      <td>1</td>\n",
       "      <td>0.0294</td>\n",
       "      <td>167.060</td>\n",
       "      <td>4</td>\n",
       "      <td>0.474</td>\n",
       "    </tr>\n",
       "    <tr>\n",
       "      <th>1</th>\n",
       "      <td>In The End</td>\n",
       "      <td>66</td>\n",
       "      <td>216933</td>\n",
       "      <td>0.010300</td>\n",
       "      <td>0.542</td>\n",
       "      <td>0.853</td>\n",
       "      <td>0.000000</td>\n",
       "      <td>3</td>\n",
       "      <td>0.1080</td>\n",
       "      <td>-6.407</td>\n",
       "      <td>0</td>\n",
       "      <td>0.0498</td>\n",
       "      <td>105.256</td>\n",
       "      <td>4</td>\n",
       "      <td>0.370</td>\n",
       "    </tr>\n",
       "    <tr>\n",
       "      <th>2</th>\n",
       "      <td>Seven Nation Army</td>\n",
       "      <td>76</td>\n",
       "      <td>231733</td>\n",
       "      <td>0.008170</td>\n",
       "      <td>0.737</td>\n",
       "      <td>0.463</td>\n",
       "      <td>0.447000</td>\n",
       "      <td>0</td>\n",
       "      <td>0.2550</td>\n",
       "      <td>-7.828</td>\n",
       "      <td>1</td>\n",
       "      <td>0.0792</td>\n",
       "      <td>123.881</td>\n",
       "      <td>4</td>\n",
       "      <td>0.324</td>\n",
       "    </tr>\n",
       "    <tr>\n",
       "      <th>3</th>\n",
       "      <td>By The Way</td>\n",
       "      <td>74</td>\n",
       "      <td>216933</td>\n",
       "      <td>0.026400</td>\n",
       "      <td>0.451</td>\n",
       "      <td>0.970</td>\n",
       "      <td>0.003550</td>\n",
       "      <td>0</td>\n",
       "      <td>0.1020</td>\n",
       "      <td>-4.938</td>\n",
       "      <td>1</td>\n",
       "      <td>0.1070</td>\n",
       "      <td>122.444</td>\n",
       "      <td>4</td>\n",
       "      <td>0.198</td>\n",
       "    </tr>\n",
       "    <tr>\n",
       "      <th>4</th>\n",
       "      <td>How You Remind Me</td>\n",
       "      <td>56</td>\n",
       "      <td>223826</td>\n",
       "      <td>0.000954</td>\n",
       "      <td>0.447</td>\n",
       "      <td>0.766</td>\n",
       "      <td>0.000000</td>\n",
       "      <td>10</td>\n",
       "      <td>0.1130</td>\n",
       "      <td>-5.065</td>\n",
       "      <td>1</td>\n",
       "      <td>0.0313</td>\n",
       "      <td>172.011</td>\n",
       "      <td>4</td>\n",
       "      <td>0.574</td>\n",
       "    </tr>\n",
       "    <tr>\n",
       "      <th>...</th>\n",
       "      <td>...</td>\n",
       "      <td>...</td>\n",
       "      <td>...</td>\n",
       "      <td>...</td>\n",
       "      <td>...</td>\n",
       "      <td>...</td>\n",
       "      <td>...</td>\n",
       "      <td>...</td>\n",
       "      <td>...</td>\n",
       "      <td>...</td>\n",
       "      <td>...</td>\n",
       "      <td>...</td>\n",
       "      <td>...</td>\n",
       "      <td>...</td>\n",
       "      <td>...</td>\n",
       "    </tr>\n",
       "    <tr>\n",
       "      <th>18830</th>\n",
       "      <td>Let It Breathe</td>\n",
       "      <td>60</td>\n",
       "      <td>159645</td>\n",
       "      <td>0.893000</td>\n",
       "      <td>0.500</td>\n",
       "      <td>0.151</td>\n",
       "      <td>0.000065</td>\n",
       "      <td>11</td>\n",
       "      <td>0.1110</td>\n",
       "      <td>-16.107</td>\n",
       "      <td>1</td>\n",
       "      <td>0.0348</td>\n",
       "      <td>113.969</td>\n",
       "      <td>4</td>\n",
       "      <td>0.300</td>\n",
       "    </tr>\n",
       "    <tr>\n",
       "      <th>18831</th>\n",
       "      <td>Answers</td>\n",
       "      <td>60</td>\n",
       "      <td>205666</td>\n",
       "      <td>0.765000</td>\n",
       "      <td>0.495</td>\n",
       "      <td>0.161</td>\n",
       "      <td>0.000001</td>\n",
       "      <td>11</td>\n",
       "      <td>0.1050</td>\n",
       "      <td>-14.078</td>\n",
       "      <td>0</td>\n",
       "      <td>0.0301</td>\n",
       "      <td>94.286</td>\n",
       "      <td>4</td>\n",
       "      <td>0.265</td>\n",
       "    </tr>\n",
       "    <tr>\n",
       "      <th>18832</th>\n",
       "      <td>Sudden Love (Acoustic)</td>\n",
       "      <td>23</td>\n",
       "      <td>182211</td>\n",
       "      <td>0.847000</td>\n",
       "      <td>0.719</td>\n",
       "      <td>0.325</td>\n",
       "      <td>0.000000</td>\n",
       "      <td>0</td>\n",
       "      <td>0.1250</td>\n",
       "      <td>-12.222</td>\n",
       "      <td>1</td>\n",
       "      <td>0.0355</td>\n",
       "      <td>130.534</td>\n",
       "      <td>4</td>\n",
       "      <td>0.286</td>\n",
       "    </tr>\n",
       "    <tr>\n",
       "      <th>18833</th>\n",
       "      <td>Gentle on My Mind</td>\n",
       "      <td>55</td>\n",
       "      <td>352280</td>\n",
       "      <td>0.945000</td>\n",
       "      <td>0.488</td>\n",
       "      <td>0.326</td>\n",
       "      <td>0.015700</td>\n",
       "      <td>3</td>\n",
       "      <td>0.1190</td>\n",
       "      <td>-12.020</td>\n",
       "      <td>1</td>\n",
       "      <td>0.0328</td>\n",
       "      <td>106.063</td>\n",
       "      <td>4</td>\n",
       "      <td>0.323</td>\n",
       "    </tr>\n",
       "    <tr>\n",
       "      <th>18834</th>\n",
       "      <td>Up to Me</td>\n",
       "      <td>60</td>\n",
       "      <td>193533</td>\n",
       "      <td>0.911000</td>\n",
       "      <td>0.640</td>\n",
       "      <td>0.381</td>\n",
       "      <td>0.000254</td>\n",
       "      <td>4</td>\n",
       "      <td>0.1040</td>\n",
       "      <td>-11.790</td>\n",
       "      <td>1</td>\n",
       "      <td>0.0302</td>\n",
       "      <td>91.490</td>\n",
       "      <td>4</td>\n",
       "      <td>0.581</td>\n",
       "    </tr>\n",
       "  </tbody>\n",
       "</table>\n",
       "<p>18835 rows × 15 columns</p>\n",
       "</div>"
      ],
      "text/plain": [
       "                        song_name  song_popularity  song_duration_ms  \\\n",
       "0      Boulevard of Broken Dreams               73            262333   \n",
       "1                      In The End               66            216933   \n",
       "2               Seven Nation Army               76            231733   \n",
       "3                      By The Way               74            216933   \n",
       "4               How You Remind Me               56            223826   \n",
       "...                           ...              ...               ...   \n",
       "18830              Let It Breathe               60            159645   \n",
       "18831                     Answers               60            205666   \n",
       "18832      Sudden Love (Acoustic)               23            182211   \n",
       "18833           Gentle on My Mind               55            352280   \n",
       "18834                    Up to Me               60            193533   \n",
       "\n",
       "       acousticness  danceability  energy  instrumentalness  key  liveness  \\\n",
       "0          0.005520         0.496   0.682          0.000029    8    0.0589   \n",
       "1          0.010300         0.542   0.853          0.000000    3    0.1080   \n",
       "2          0.008170         0.737   0.463          0.447000    0    0.2550   \n",
       "3          0.026400         0.451   0.970          0.003550    0    0.1020   \n",
       "4          0.000954         0.447   0.766          0.000000   10    0.1130   \n",
       "...             ...           ...     ...               ...  ...       ...   \n",
       "18830      0.893000         0.500   0.151          0.000065   11    0.1110   \n",
       "18831      0.765000         0.495   0.161          0.000001   11    0.1050   \n",
       "18832      0.847000         0.719   0.325          0.000000    0    0.1250   \n",
       "18833      0.945000         0.488   0.326          0.015700    3    0.1190   \n",
       "18834      0.911000         0.640   0.381          0.000254    4    0.1040   \n",
       "\n",
       "       loudness  audio_mode  speechiness    tempo  time_signature  \\\n",
       "0        -4.095           1       0.0294  167.060               4   \n",
       "1        -6.407           0       0.0498  105.256               4   \n",
       "2        -7.828           1       0.0792  123.881               4   \n",
       "3        -4.938           1       0.1070  122.444               4   \n",
       "4        -5.065           1       0.0313  172.011               4   \n",
       "...         ...         ...          ...      ...             ...   \n",
       "18830   -16.107           1       0.0348  113.969               4   \n",
       "18831   -14.078           0       0.0301   94.286               4   \n",
       "18832   -12.222           1       0.0355  130.534               4   \n",
       "18833   -12.020           1       0.0328  106.063               4   \n",
       "18834   -11.790           1       0.0302   91.490               4   \n",
       "\n",
       "       audio_valence  \n",
       "0              0.474  \n",
       "1              0.370  \n",
       "2              0.324  \n",
       "3              0.198  \n",
       "4              0.574  \n",
       "...              ...  \n",
       "18830          0.300  \n",
       "18831          0.265  \n",
       "18832          0.286  \n",
       "18833          0.323  \n",
       "18834          0.581  \n",
       "\n",
       "[18835 rows x 15 columns]"
      ]
     },
     "execution_count": 753,
     "metadata": {},
     "output_type": "execute_result"
    }
   ],
   "source": [
    "from pathlib import Path\n",
    "import os\n",
    "\n",
    "import pandas as pd\n",
    "\n",
    "\n",
    "path = Path().resolve()\n",
    "filename = 'song_data.csv'\n",
    "data = pd.read_csv(os.path.join(path, filename))\n",
    "data"
   ]
  },
  {
   "cell_type": "code",
   "execution_count": 754,
   "metadata": {},
   "outputs": [
    {
     "data": {
      "text/plain": [
       "18835"
      ]
     },
     "execution_count": 754,
     "metadata": {},
     "output_type": "execute_result"
    }
   ],
   "source": [
    "ratings = data['song_popularity']\n",
    "n = len(ratings)\n",
    "n"
   ]
  },
  {
   "cell_type": "code",
   "execution_count": 755,
   "metadata": {},
   "outputs": [
    {
     "data": {
      "text/plain": [
       "15"
      ]
     },
     "execution_count": 755,
     "metadata": {},
     "output_type": "execute_result"
    }
   ],
   "source": [
    "import numpy as np\n",
    "\n",
    "k = int(1 + np.floor(np.log2(n)))\n",
    "k"
   ]
  },
  {
   "cell_type": "code",
   "execution_count": 756,
   "metadata": {},
   "outputs": [
    {
     "data": {
      "text/plain": [
       "array([ 802,  470,  497,  733,  908, 1080, 1796, 2391, 2137, 2572, 2329,\n",
       "       1419,  863,  528,  310], dtype=int64)"
      ]
     },
     "execution_count": 756,
     "metadata": {},
     "output_type": "execute_result"
    }
   ],
   "source": [
    "intervals = np.linspace(ratings.min(), ratings.max(), k + 1)\n",
    "empir_freqs, bins = np.histogram(ratings, bins=intervals)\n",
    "empir_freqs"
   ]
  },
  {
   "cell_type": "code",
   "execution_count": 757,
   "metadata": {},
   "outputs": [
    {
     "data": {
      "image/png": "[encoded data removed]",
      "text/plain": [
       "<Figure size 640x480 with 1 Axes>"
      ]
     },
     "metadata": {},
     "output_type": "display_data"
    }
   ],
   "source": [
    "import matplotlib.pyplot as plt\n",
    "\n",
    "\n",
    "bin_width = bins[1] - bins[0]\n",
    "plt.bar(bins[:-1], empir_freqs, width=bin_width, edgecolor='black', align='edge')\n",
    "plt.xlabel('Rating')\n",
    "plt.ylabel('Frequency')\n",
    "plt.title('Empirical Distribution of Song Ratings')\n",
    "plt.show()"
   ]
  },
  {
   "cell_type": "code",
   "execution_count": 758,
   "metadata": {},
   "outputs": [
    {
     "name": "stdout",
     "output_type": "stream",
     "text": [
      "mu=52.99187682505973, sigma=21.905654321614236\n"
     ]
    }
   ],
   "source": [
    "mu, sigma = ratings.mean(), ratings.std()\n",
    "print(f'mu={mu}, sigma={sigma}')"
   ]
  },
  {
   "cell_type": "code",
   "execution_count": 759,
   "metadata": {},
   "outputs": [
    {
     "data": {
      "text/plain": [
       "array([ 177.908,  336.954,  582.136,  917.402, 1318.796, 1729.334,\n",
       "       2068.544, 2257.019, 2246.42 , 2039.537, 1689.107, 1276.047,\n",
       "        879.346,  552.759,  316.951])"
      ]
     },
     "execution_count": 759,
     "metadata": {},
     "output_type": "execute_result"
    }
   ],
   "source": [
    "import scipy.stats as st\n",
    "\n",
    "\n",
    "theor_freqs = []\n",
    "for j in range(len(bins) - 1):\n",
    "    p_j = st.norm.cdf(bins[j + 1], loc=mu, scale=sigma) - \\\n",
    "          st.norm.cdf(bins[j], loc=mu, scale=sigma)\n",
    "    E_j = n * p_j\n",
    "    theor_freqs.append(E_j)\n",
    "\n",
    "np.array(theor_freqs)"
   ]
  },
  {
   "cell_type": "code",
   "execution_count": 760,
   "metadata": {},
   "outputs": [
    {
     "data": {
      "image/png": "[encoded data removed]",
      "text/plain": [
       "<Figure size 640x480 with 1 Axes>"
      ]
     },
     "metadata": {},
     "output_type": "display_data"
    }
   ],
   "source": [
    "bin_width = bins[1] - bins[0]\n",
    "plt.bar(bins[:-1], theor_freqs, width=bin_width, edgecolor='black', align='edge')\n",
    "plt.xlabel('Rating')\n",
    "plt.ylabel('Frequency')\n",
    "plt.title('Theoretical Distribution of Song Ratings')\n",
    "plt.show()"
   ]
  },
  {
   "cell_type": "code",
   "execution_count": 761,
   "metadata": {},
   "outputs": [
    {
     "data": {
      "text/plain": [
       "3111.2994661649764"
      ]
     },
     "execution_count": 761,
     "metadata": {},
     "output_type": "execute_result"
    }
   ],
   "source": [
    "chi2_score = np.sum((empir_freqs - theor_freqs) ** 2 / theor_freqs)\n",
    "chi2_score"
   ]
  },
  {
   "cell_type": "markdown",
   "metadata": {},
   "source": [
    "Эмпирически нашли матожидание и среднеквадратическое отклонение. Иными словами, мы оценили два параметра, а значит `p = 2` (потеря информации при оценивании параметра)"
   ]
  },
  {
   "cell_type": "code",
   "execution_count": 762,
   "metadata": {},
   "outputs": [
    {
     "data": {
      "text/plain": [
       "12"
      ]
     },
     "execution_count": 762,
     "metadata": {},
     "output_type": "execute_result"
    }
   ],
   "source": [
    "p = 2\n",
    "df = (k - 1) - p\n",
    "df"
   ]
  },
  {
   "cell_type": "markdown",
   "metadata": {},
   "source": [
    "Смотрим в таблицу по `df` и `alpha=0.05`"
   ]
  },
  {
   "cell_type": "code",
   "execution_count": 763,
   "metadata": {},
   "outputs": [
    {
     "name": "stdout",
     "output_type": "stream",
     "text": [
      "Reject null hypothesis with respect to given alternative\n"
     ]
    }
   ],
   "source": [
    "alpha = 0.05\n",
    "crit_chi2 = 21.026\n",
    "\n",
    "print_reject_or_accept(chi2_score > crit_chi2)"
   ]
  },
  {
   "cell_type": "code",
   "execution_count": 764,
   "metadata": {},
   "outputs": [
    {
     "data": {
      "text/plain": [
       "0.0"
      ]
     },
     "execution_count": 764,
     "metadata": {},
     "output_type": "execute_result"
    }
   ],
   "source": [
    "p_value = 1 - st.chi2.cdf(chi2_score, df)\n",
    "p_value"
   ]
  },
  {
   "cell_type": "code",
   "execution_count": 765,
   "metadata": {},
   "outputs": [
    {
     "name": "stdout",
     "output_type": "stream",
     "text": [
      "Reject null hypothesis with respect to given alternative\n"
     ]
    }
   ],
   "source": [
    "print_reject_or_accept(p_value < alpha)"
   ]
  },
  {
   "cell_type": "code",
   "execution_count": 766,
   "metadata": {},
   "outputs": [
    {
     "name": "stdout",
     "output_type": "stream",
     "text": [
      "stat=0.06170357136267912, p_value=8.782641743221739e-63\n"
     ]
    }
   ],
   "source": [
    "stat, p_value = st.kstest(ratings, 'norm', args=(mu, sigma))\n",
    "print(f'stat={stat}, p_value={p_value}')"
   ]
  },
  {
   "cell_type": "code",
   "execution_count": 767,
   "metadata": {},
   "outputs": [
    {
     "name": "stdout",
     "output_type": "stream",
     "text": [
      "Reject null hypothesis with respect to given alternative\n"
     ]
    }
   ],
   "source": [
    "print_reject_or_accept(p_value < alpha)"
   ]
  },
  {
   "cell_type": "markdown",
   "metadata": {},
   "source": [
    "H_0 равны"
   ]
  },
  {
   "cell_type": "code",
   "execution_count": 768,
   "metadata": {},
   "outputs": [
    {
     "name": "stdout",
     "output_type": "stream",
     "text": [
      "len_short=9419, len_long=9416\n"
     ]
    }
   ],
   "source": [
    "duration = data['song_duration_ms']\n",
    "\n",
    "threshold = np.median(duration)\n",
    "short_songs_ratings = ratings[duration <= threshold]\n",
    "long_songs_ratings = ratings[duration > threshold]\n",
    "\n",
    "print(f'len_short={len(short_songs_ratings)}, len_long={len(long_songs_ratings)}')"
   ]
  },
  {
   "cell_type": "code",
   "execution_count": 769,
   "metadata": {},
   "outputs": [
    {
     "data": {
      "image/png": "[encoded data removed]",
      "text/plain": [
       "<Figure size 640x480 with 1 Axes>"
      ]
     },
     "metadata": {},
     "output_type": "display_data"
    }
   ],
   "source": [
    "bins = min(int(1 + np.floor(np.log2(len(short_songs_ratings)))), int(1 + np.floor(np.log2(len(long_songs_ratings)))))\n",
    "plt.hist(short_songs_ratings, bins=bins, alpha=0.5, label=\"Short Songs\", color='blue', edgecolor='black')\n",
    "plt.hist(long_songs_ratings, bins=bins, alpha=0.5, label=\"Long Songs\", color='red', edgecolor='black')\n",
    "\n",
    "plt.xlabel('Rating')\n",
    "plt.ylabel('Frequency')\n",
    "plt.title('Distribution of Song Ratings')\n",
    "plt.legend(loc='best')\n",
    "plt.show()"
   ]
  },
  {
   "cell_type": "markdown",
   "metadata": {},
   "source": [
    "Пропускаем сортировку (создание вариационного ряда) благодаря функции `rankdata` "
   ]
  },
  {
   "cell_type": "code",
   "execution_count": 770,
   "metadata": {},
   "outputs": [
    {
     "data": {
      "text/plain": [
       "array([17362.5, 17362.5, 16867.5, ..., 13539.5, 12487.5,  9219.5])"
      ]
     },
     "execution_count": 770,
     "metadata": {},
     "output_type": "execute_result"
    }
   ],
   "source": [
    "combined_ratings = np.concatenate((short_songs_ratings, long_songs_ratings))\n",
    "ranks = st.rankdata(combined_ratings)\n",
    "ranks"
   ]
  },
  {
   "cell_type": "code",
   "execution_count": 771,
   "metadata": {},
   "outputs": [
    {
     "name": "stdout",
     "output_type": "stream",
     "text": [
      "R_short=88207355.0, R_long=89180675.0\n"
     ]
    }
   ],
   "source": [
    "ranks_short = ranks[:len(short_songs_ratings)]\n",
    "ranks_long = ranks[len(short_songs_ratings):]\n",
    "\n",
    "r_short = np.sum(ranks_short)\n",
    "r_long = np.sum(ranks_long)\n",
    "\n",
    "print(f'R_short={r_short}, R_long={r_long}')"
   ]
  },
  {
   "cell_type": "code",
   "execution_count": 772,
   "metadata": {},
   "outputs": [
    {
     "data": {
      "text/plain": [
       "43843865.0"
      ]
     },
     "execution_count": 772,
     "metadata": {},
     "output_type": "execute_result"
    }
   ],
   "source": [
    "m = len(short_songs_ratings)\n",
    "n = len(long_songs_ratings)\n",
    "\n",
    "u_short = m * n + 0.5 * m * (m + 1) - r_short\n",
    "u_long = m * n + 0.5 * n * (n + 1) - r_long\n",
    "u = min(u_short, u_long)\n",
    "u"
   ]
  },
  {
   "cell_type": "markdown",
   "metadata": {},
   "source": [
    "Для больших выборок статистика `U` распределена приблизительно нормально"
   ]
  },
  {
   "cell_type": "code",
   "execution_count": 773,
   "metadata": {},
   "outputs": [
    {
     "data": {
      "text/plain": [
       "44344652.0"
      ]
     },
     "execution_count": 773,
     "metadata": {},
     "output_type": "execute_result"
    }
   ],
   "source": [
    "mean_u = m * n / 2\n",
    "mean_u"
   ]
  },
  {
   "cell_type": "code",
   "execution_count": 774,
   "metadata": {},
   "outputs": [
    {
     "data": {
      "text/plain": [
       "373112.106716824"
      ]
     },
     "execution_count": 774,
     "metadata": {},
     "output_type": "execute_result"
    }
   ],
   "source": [
    "std_u = np.sqrt(m * n * (m + n + 1) / 12)\n",
    "std_u"
   ]
  },
  {
   "cell_type": "code",
   "execution_count": null,
   "metadata": {},
   "outputs": [
    {
     "data": {
      "text/plain": [
       "43613352.27083503"
      ]
     },
     "execution_count": 775,
     "metadata": {},
     "output_type": "execute_result"
    }
   ],
   "source": [
    "q_1_m_alpha_2 = 1.96\n",
    "crit_u = mean_u - q_1_m_alpha_2 * std_u\n",
    "crit_u"
   ]
  },
  {
   "cell_type": "code",
   "execution_count": 776,
   "metadata": {},
   "outputs": [
    {
     "name": "stdout",
     "output_type": "stream",
     "text": [
      "Accept null hypothesis\n"
     ]
    }
   ],
   "source": [
    "print_reject_or_accept(u < crit_u)"
   ]
  },
  {
   "cell_type": "code",
   "execution_count": 777,
   "metadata": {},
   "outputs": [
    {
     "data": {
      "text/plain": [
       "0.17953469213683615"
      ]
     },
     "execution_count": 777,
     "metadata": {},
     "output_type": "execute_result"
    }
   ],
   "source": [
    "z = (u - mean_u) / std_u\n",
    "p_value = 2 * (1 - st.norm.cdf(abs(z)))\n",
    "p_value"
   ]
  },
  {
   "cell_type": "code",
   "execution_count": 778,
   "metadata": {},
   "outputs": [
    {
     "name": "stdout",
     "output_type": "stream",
     "text": [
      "Accept null hypothesis\n"
     ]
    }
   ],
   "source": [
    "print_reject_or_accept(p_value < alpha)"
   ]
  },
  {
   "cell_type": "code",
   "execution_count": 779,
   "metadata": {},
   "outputs": [
    {
     "data": {
      "text/plain": [
       "0.011691247497192433"
      ]
     },
     "execution_count": 779,
     "metadata": {},
     "output_type": "execute_result"
    }
   ],
   "source": [
    "stat, p_value = st.ks_2samp(short_songs_ratings, long_songs_ratings)\n",
    "p_value"
   ]
  },
  {
   "cell_type": "code",
   "execution_count": 780,
   "metadata": {},
   "outputs": [
    {
     "name": "stdout",
     "output_type": "stream",
     "text": [
      "Reject null hypothesis with respect to given alternative\n"
     ]
    }
   ],
   "source": [
    "print_reject_or_accept(p_value < alpha)"
   ]
  }
 ],
 "metadata": {
  "kernelspec": {
   "display_name": "Python 3",
   "language": "python",
   "name": "python3"
  },
  "language_info": {
   "codemirror_mode": {
    "name": "ipython",
    "version": 3
   },
   "file_extension": ".py",
   "mimetype": "text/x-python",
   "name": "python",
   "nbconvert_exporter": "python",
   "pygments_lexer": "ipython3",
   "version": "3.12.3"
  }
 },
 "nbformat": 4,
 "nbformat_minor": 2
}
